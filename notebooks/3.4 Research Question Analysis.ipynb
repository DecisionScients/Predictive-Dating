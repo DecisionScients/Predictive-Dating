{
 "cells": [
  {
   "cell_type": "markdown",
   "metadata": {},
   "source": [
    "# Research Question Analysis"
   ]
  },
  {
   "cell_type": "code",
   "execution_count": null,
   "metadata": {},
   "outputs": [],
   "source": [
    "# libraries\n",
    "import os\n",
    "import sys\n",
    "import inspect\n",
    "sys.path.append(\"../src\")\n",
    "\n",
    "import math\n",
    "import matplotlib.pyplot as plt\n",
    "import matplotlib.patches as mpatches\n",
    "import numpy as np\n",
    "import pandas as pd\n",
    "import seaborn as sns\n",
    "from sklearn.decomposition import PCA \n",
    "from sklearn.preprocessing import LabelEncoder\n",
    "from sklearn.preprocessing import StandardScaler\n",
    "\n",
    "import warnings\n",
    "warnings.filterwarnings('ignore')\n",
    "\n",
    "from shared import directories\n",
    "from shared import filenames\n",
    "from shared import variables\n",
    "sys.path.append(directories.ANALYSIS_PATH)\n",
    "\n",
    "import visual\n",
    "import multivariate\n",
    "import bivariate\n",
    "\n",
    "from IPython.core.interactiveshell import InteractiveShell\n",
    "InteractiveShell.ast_node_interactivity = \"all\""
   ]
  },
  {
   "cell_type": "code",
   "execution_count": null,
   "metadata": {},
   "outputs": [],
   "source": [
    "class color:\n",
    "   PURPLE = '\\033[95m'\n",
    "   CYAN = '\\033[96m'\n",
    "   DARKCYAN = '\\033[36m'\n",
    "   BLUE = '\\033[94m'\n",
    "   GREEN = '\\033[92m'\n",
    "   YELLOW = '\\033[93m'\n",
    "   RED = '\\033[91m'\n",
    "   BOLD = '\\033[1m'\n",
    "   UNDERLINE = '\\033[4m'\n",
    "   END = '\\033[0m'"
   ]
  },
  {
   "cell_type": "markdown",
   "metadata": {},
   "source": [
    "## Obtain training data"
   ]
  },
  {
   "cell_type": "code",
   "execution_count": null,
   "metadata": {},
   "outputs": [],
   "source": [
    "df = pd.read_csv(os.path.join(directories.INTERIM_DATA_DIR,\n",
    "                              filenames.TRAIN_FILENAME),\n",
    "                 encoding=\"Latin-1\", low_memory=False)\n",
    "df['gender_o'] = np.where(df['gender']=='male', 'female', 'male')\n",
    "# Subject Importances\n",
    "df_importance_s = df[['decision', 'match', 'gender', 'race', 'importance_same_race', 'attractive_important', 'sincere_important', \n",
    "                    'intelligence_important', 'funny_important','ambitious_important', 'shared_interests_important']]\n",
    "df_importance_s = pd.melt(df_importance_s, id_vars=['decision', 'match','gender', 'race'], var_name='characteristic', value_name='importance')\n",
    "\n",
    "# Partner Importances\n",
    "df_importance_o = df[['decision', 'match','gender_o', 'race_o', 'pref_o_attractive', 'pref_o_sincere', \n",
    "                    'pref_o_intelligence', 'pref_o_funny','pref_o_ambitious', 'pref_o_shared_interests']]\n",
    "df_importance_o = pd.melt(df_importance_o, id_vars=['decision', 'match','gender_o', 'race_o'], var_name='characteristic', value_name='importance')\n",
    "\n",
    "\n",
    "# Subject Self-Rating\n",
    "df_subject_rating_s = df[['decision', 'match', 'gender', 'race', 'attractive', 'sincere','intelligence', 'funny','ambitious']]\n",
    "df_subject_rating_s = pd.melt(df_subject_rating_s, id_vars=['decision', 'match','gender', 'race'], var_name='characteristic', value_name='rating')\n",
    "\n",
    "# Subject Rating of Partner\n",
    "df_partner_rating_s = df[['decision', 'match','gender', 'race', 'attractive_partner', 'sincere_partner','intelligence_partner', \n",
    "                          'funny_partner','ambitious_partner']]\n",
    "df_partner_rating_s = pd.melt(df_partner_rating_s, id_vars=['decision', 'match','gender', 'race'], \n",
    "                              var_name='characteristic', value_name='rating')\n",
    "\n",
    "\n",
    "# Partner Rating of Subject\n",
    "df_subject_rating_o = df[['decision', 'match','gender', 'race', 'attractive_o', 'sincere_o','intelligence_o', \n",
    "                          'funny_o','ambitious_o']]\n",
    "df_subject_rating_o = pd.melt(df_subject_rating_o, id_vars=['decision', 'match','gender', 'race'], \n",
    "                              var_name='characteristic', value_name='rating')\n",
    "\n",
    "# Subject Interests\n",
    "df_interests_s = df[['decision', 'match','gender', 'race', 'sports','tvsports','exercise','dining',\n",
    "                          'museums','art','hiking','gaming','clubbing','reading','tv','theater','movies',\n",
    "                          'concerts','music','shopping','yoga']]\n",
    "df_interests_s = pd.melt(df_interests_s, id_vars=['decision', 'match','gender', 'race'], \n",
    "                              var_name='interest', value_name='rating')"
   ]
  },
  {
   "cell_type": "markdown",
   "metadata": {},
   "source": [
    "## Preference Analysis\n",
    "What are the preferences by gender and race"
   ]
  },
  {
   "cell_type": "markdown",
   "metadata": {},
   "source": [
    "### Preferences by Gender\n",
    "Signficant differences between the genders.  \n",
    "- Males valued attractiveness significantly more than female subjects.\n",
    "- Females valued sincerity more than male subjects\n",
    "- Importance of intelligence was slightly greater among female subjects.\n",
    "- Males valued a sense of humor slightly more than female subjects. \n",
    "- Female subjects valued shared interests more than male subjects."
   ]
  },
  {
   "cell_type": "code",
   "execution_count": null,
   "metadata": {
    "scrolled": false
   },
   "outputs": [],
   "source": [
    "bp1 = visual.boxplot(df_importance_s, x='gender', y='importance', hue='characteristic', title='Preferences by Gender')\n",
    "bp2 = visual.boxplot(df_importance_s, x='characteristic', y='importance', hue='gender', title='Preferences by Gender')\n",
    "\n",
    "plt.show()\n",
    "\n",
    "x = 'gender'\n",
    "y = ['attractive_important', 'sincere_important', 'intelligence_important', 'funny_important',\n",
    "     'ambitious_important', 'shared_interests_important']\n",
    "for preference in y:\n",
    "    i,d,p = bivariate.analysis(df, x, preference);\n",
    "    print(color.BOLD + preference + \" by Gender \" + color.END)\n",
    "    d\n",
    "    print(color.BOLD + \"Analysis of Variance\" + color.END)\n",
    "    i\n",
    "    p\n",
    "fig = ''\n",
    "    "
   ]
  },
  {
   "cell_type": "markdown",
   "metadata": {},
   "source": [
    "### Preferences by Race and Gender"
   ]
  },
  {
   "cell_type": "code",
   "execution_count": null,
   "metadata": {
    "scrolled": false
   },
   "outputs": [],
   "source": [
    "x = 'gender'\n",
    "y = ['attractive_important', 'sincere_important', 'intelligence_important', 'funny_important',\n",
    "     'ambitious_important', 'shared_interests_important']\n",
    "for preference in y:\n",
    "    visual.boxplot(df, x=x, y=preference, hue='race', title=preference)\n",
    "    "
   ]
  },
  {
   "cell_type": "markdown",
   "metadata": {},
   "source": [
    "### Ratings of Partner by Gender"
   ]
  },
  {
   "cell_type": "code",
   "execution_count": null,
   "metadata": {
    "scrolled": false
   },
   "outputs": [],
   "source": [
    "x = 'gender'\n",
    "y = ['attractive_partner', 'sincere_partner', 'intelligence_partner', 'funny_partner',\n",
    "     'ambitious_partner', 'shared_interests_partner']\n",
    "for preference in y:\n",
    "    i,d,p = bivariate.analysis(df, x, preference);\n",
    "    print(color.BOLD + preference + \" by Gender \" + color.END)\n",
    "    d\n",
    "    print(color.BOLD + \"Analysis of Variance\" + color.END)\n",
    "    i\n",
    "    p\n",
    "fig = ''"
   ]
  },
  {
   "cell_type": "markdown",
   "metadata": {},
   "source": [
    "### Ratings of Partner by Race and Gender"
   ]
  },
  {
   "cell_type": "code",
   "execution_count": null,
   "metadata": {
    "scrolled": false
   },
   "outputs": [],
   "source": [
    "x = 'gender'\n",
    "y = ['attractive_partner', 'sincere_partner', 'intelligence_partner', 'funny_partner',\n",
    "     'ambitious_partner', 'shared_interests_partner']\n",
    "for preference in y:\n",
    "    visual.boxplot(df, x=x, y=preference, hue='race', title=preference)\n",
    "    "
   ]
  },
  {
   "cell_type": "markdown",
   "metadata": {},
   "source": [
    "### Relative Differences from Subject's Perspective by Gender"
   ]
  },
  {
   "cell_type": "code",
   "execution_count": null,
   "metadata": {
    "scrolled": false
   },
   "outputs": [],
   "source": [
    "x = 'gender'\n",
    "y = ['rel_attractive_s', 'rel_sincere_s', 'rel_intelligence_s', 'rel_funny_s',\n",
    "     'rel_ambitious_s']\n",
    "for preference in y:\n",
    "    i,d,p = bivariate.analysis(df, x, preference);\n",
    "    print(color.BOLD + preference + \" by Gender \" + color.END)\n",
    "    d\n",
    "    print(color.BOLD + \"Analysis of Variance\" + color.END)\n",
    "    i\n",
    "    p\n",
    "fig = ''"
   ]
  },
  {
   "cell_type": "markdown",
   "metadata": {},
   "source": [
    "### Relative Differences from Subject's Perspective by Race and Gender"
   ]
  },
  {
   "cell_type": "code",
   "execution_count": null,
   "metadata": {
    "scrolled": false
   },
   "outputs": [],
   "source": [
    "x = 'gender'\n",
    "y = ['rel_attractive_s', 'rel_sincere_s', 'rel_intelligence_s', 'rel_funny_s',\n",
    "     'rel_ambitious_s']\n",
    "for preference in y:\n",
    "    visual.boxplot(df, x=x, y=preference, hue='race', title=preference)\n",
    "    "
   ]
  },
  {
   "cell_type": "markdown",
   "metadata": {},
   "source": [
    "### Relative Differences from Partners perspective by Gender"
   ]
  },
  {
   "cell_type": "code",
   "execution_count": null,
   "metadata": {
    "scrolled": false
   },
   "outputs": [],
   "source": [
    "x = 'gender'\n",
    "y = ['rel_attractive_o', 'sincere_o', 'intelligence_o', 'funny_o',\n",
    "     'rel_ambitious_o']\n",
    "for preference in y:\n",
    "    i,d,p = bivariate.analysis(df, x, preference);\n",
    "    print(color.BOLD + preference + \" by Gender \" + color.END)\n",
    "    d\n",
    "    print(color.BOLD + \"Analysis of Variance\" + color.END)\n",
    "    i\n",
    "    p\n",
    "fig = ''"
   ]
  },
  {
   "cell_type": "markdown",
   "metadata": {},
   "source": [
    "### Relative Differences from Partners perspective by Gender"
   ]
  },
  {
   "cell_type": "code",
   "execution_count": null,
   "metadata": {
    "scrolled": false
   },
   "outputs": [],
   "source": [
    "x = 'gender'\n",
    "y = ['rel_attractive_o', 'rel_sincere_o', 'rel_intelligence_o', 'rel_funny_o',\n",
    "     'rel_ambitious_o']\n",
    "for preference in y:\n",
    "    visual.boxplot(df, x=x, y=preference, hue='race', title=preference)\n",
    "    "
   ]
  }
 ],
 "metadata": {
  "kernelspec": {
   "display_name": "Python 3",
   "language": "python",
   "name": "python3"
  },
  "language_info": {
   "codemirror_mode": {
    "name": "ipython",
    "version": 3
   },
   "file_extension": ".py",
   "mimetype": "text/x-python",
   "name": "python",
   "nbconvert_exporter": "python",
   "pygments_lexer": "ipython3",
   "version": "3.6.5"
  }
 },
 "nbformat": 4,
 "nbformat_minor": 2
}
