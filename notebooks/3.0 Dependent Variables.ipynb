{
 "cells": [
  {
   "cell_type": "markdown",
   "metadata": {},
   "source": [
    "# 3 Dependent Variables\n",
    "There are four dependent variables in this study:\n",
    "1. Decision - the decision of the subject or partner on the night of the event\n",
    "2. Match - occurs when both subject and partner choose a second date\n",
    "3. Yes Rate - the proportion of a subject's speed dates in the person was selected by his/her partner for second date\n",
    "4. Match Rate - the proportion of a subject's speed dates in the person was matched \n",
    "Note: each date is represented twice in the data set - once for both subject and partner. As such, the distribution of subject and partner variables are the same.\n",
    "\n",
    "The purpose is to get a general sense of the numbers. The affect of the independent variables will be examined in separate sections."
   ]
  },
  {
   "cell_type": "code",
   "execution_count": null,
   "metadata": {},
   "outputs": [],
   "source": [
    "# libraries\n",
    "%matplotlib inline\n",
    "\n",
    "import os\n",
    "import sys\n",
    "import inspect\n",
    "\n",
    "currentdir = os.path.dirname(os.path.abspath(inspect.getfile(inspect.currentframe())))\n",
    "projdir = os.path.dirname(currentdir)\n",
    "srcdir = os.path.join(projdir,\"src\")\n",
    "datasrc = os.path.join(srcdir, \"data\")\n",
    "\n",
    "sys.path.insert(0,currentdir)\n",
    "sys.path.insert(0,projdir)\n",
    "sys.path.insert(0,srcdir)\n",
    "sys.path.insert(0,datasrc)\n",
    "from IPython.core.interactiveshell import InteractiveShell\n",
    "InteractiveShell.ast_node_interactivity = \"all\"\n",
    "\n",
    "import numpy as np\n",
    "import pandas as pd\n",
    "pd.set_option('display.max_colwidth', 500)\n",
    "import matplotlib.pyplot as plt\n",
    "import seaborn as sns\n",
    "import statsmodels.api as sm\n",
    "import statsmodels.formula.api as smf\n",
    "\n",
    "import read\n",
    "from shared import directories\n",
    "sys.path.append(directories.ANALYSIS_DIR)\n",
    "sys.path.append(directories.UTILITIES_DIR)\n",
    "from analysis import trivariate\n",
    "\n",
    "import univariate, bivariate, independence, visual, description\n",
    "import warnings\n",
    "warnings.filterwarnings('ignore')"
   ]
  },
  {
   "cell_type": "markdown",
   "metadata": {},
   "source": [
    "## 3.1 Data"
   ]
  },
  {
   "cell_type": "code",
   "execution_count": null,
   "metadata": {},
   "outputs": [],
   "source": [
    "# Get Data\n",
    "sd = read.read()\n",
    "df = sd['all']\n",
    "targets = [\"dec\", 'match', 'yes_rate', 'match_rate']\n",
    "df = df[targets]"
   ]
  },
  {
   "cell_type": "markdown",
   "metadata": {},
   "source": [
    "## 3.2 Univariate Analysis\n",
    "Decisions: Yes decisions occurred approximately 42% of the time.\n",
    "Matches: Matches occurred about 16% of the time.\n",
    "Yes Rate: The data was normally distributed we'll use the mean as the indicator of centrality. The mean yes rate was 42%. The range was [0,1] \n",
    "Match Rate: Mean match rate was 16%, ranging was [0,0.9] "
   ]
  },
  {
   "cell_type": "code",
   "execution_count": null,
   "metadata": {},
   "outputs": [],
   "source": [
    "result = univariate.analysis(df)\n",
    "for r in result:\n",
    "    r['desc']\n",
    "    r['plot']\n",
    "    "
   ]
  }
 ],
 "metadata": {
  "kernelspec": {
   "display_name": "Python 3",
   "language": "python",
   "name": "python3"
  },
  "language_info": {
   "codemirror_mode": {
    "name": "ipython",
    "version": 3
   },
   "file_extension": ".py",
   "mimetype": "text/x-python",
   "name": "python",
   "nbconvert_exporter": "python",
   "pygments_lexer": "ipython3",
   "version": "3.7.0"
  }
 },
 "nbformat": 4,
 "nbformat_minor": 2
}
