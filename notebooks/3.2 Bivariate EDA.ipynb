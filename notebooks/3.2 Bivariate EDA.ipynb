{
 "cells": [
  {
   "cell_type": "markdown",
   "metadata": {},
   "source": [
    "# Bivariate Data Analysis"
   ]
  },
  {
   "cell_type": "code",
   "execution_count": null,
   "metadata": {},
   "outputs": [],
   "source": [
    "# libraries\n",
    "import os\n",
    "import sys\n",
    "import inspect\n",
    "sys.path.append(\"../src\")\n",
    "\n",
    "import numpy as np\n",
    "import pandas as pd\n",
    "import warnings\n",
    "warnings.filterwarnings('ignore')\n",
    "\n",
    "from shared import directories\n",
    "from shared import filenames\n",
    "from shared import variables\n",
    "sys.path.append(directories.ANALYSIS_PATH)\n",
    "\n",
    "import bivariate, independence\n",
    "\n",
    "from IPython.core.interactiveshell import InteractiveShell\n",
    "InteractiveShell.ast_node_interactivity = \"all\""
   ]
  },
  {
   "cell_type": "code",
   "execution_count": null,
   "metadata": {},
   "outputs": [],
   "source": [
    "class color:\n",
    "   PURPLE = '\\033[95m'\n",
    "   CYAN = '\\033[96m'\n",
    "   DARKCYAN = '\\033[36m'\n",
    "   BLUE = '\\033[94m'\n",
    "   GREEN = '\\033[92m'\n",
    "   YELLOW = '\\033[93m'\n",
    "   RED = '\\033[91m'\n",
    "   BOLD = '\\033[1m'\n",
    "   UNDERLINE = '\\033[4m'\n",
    "   END = '\\033[0m'"
   ]
  },
  {
   "cell_type": "markdown",
   "metadata": {},
   "source": [
    "## Obtain training data"
   ]
  },
  {
   "cell_type": "code",
   "execution_count": null,
   "metadata": {},
   "outputs": [],
   "source": [
    "df = pd.read_csv(os.path.join(directories.INTERIM_DATA_DIR,\n",
    "                              filenames.TRAIN_FILENAME),\n",
    "                 encoding=\"Latin-1\", low_memory=False)"
   ]
  },
  {
   "cell_type": "markdown",
   "metadata": {},
   "source": [
    "### Decision Analysis"
   ]
  },
  {
   "cell_type": "markdown",
   "metadata": {},
   "source": [
    "#### Decision by Wave Size\n",
    "The mean wave size for yes decisions was slightly smaller than that of the no decision, though the median wave sizes were the same for both decisions.  The anova test shows a statistically significant difference, although the practical significance indicated by the percentage of variance explained was 0.2 percent."
   ]
  },
  {
   "cell_type": "code",
   "execution_count": null,
   "metadata": {},
   "outputs": [],
   "source": [
    "x = 'wave_size'\n",
    "y = 'decision_c'\n",
    "i,d,p = bivariate.analysis(df, x, y);\n",
    "print(color.BOLD + \"Decisions by Wave Size\" + color.END)\n",
    "d\n",
    "print(color.BOLD + \"Cramer's Association\" + color.END)\n",
    "i"
   ]
  },
  {
   "cell_type": "markdown",
   "metadata": {},
   "source": [
    "#### Decision by Gender\n",
    "Based upon the contingency table, a significantly higher number of males made positive decisions than female participants. Though the association test shows a week correlation, I would expect to see a significant result in a chi-squared hypothesis test."
   ]
  },
  {
   "cell_type": "code",
   "execution_count": null,
   "metadata": {},
   "outputs": [],
   "source": [
    "x = 'gender'\n",
    "y = 'decision_c'\n",
    "i,d,p = bivariate.analysis(df, x, y);\n",
    "print(color.BOLD + \"Contingency Table\" + color.END)\n",
    "d\n",
    "print(color.BOLD + \"Cramer's Association\" + color.END)\n",
    "i"
   ]
  },
  {
   "cell_type": "markdown",
   "metadata": {},
   "source": [
    "#### Decision by Age\n",
    "Both the visuals and the analysis of variance show no real relationship between age and decision."
   ]
  },
  {
   "cell_type": "code",
   "execution_count": null,
   "metadata": {},
   "outputs": [],
   "source": [
    "x = 'age'\n",
    "y = 'decision_c'\n",
    "i,d,p = bivariate.analysis(df, x, y);\n",
    "print(color.BOLD + \"Descriptive Statistics of Decision by Age\" + color.END)\n",
    "d\n",
    "print(color.BOLD + \"Analysis of Variance of Decision by Age\" + color.END)\n",
    "i"
   ]
  },
  {
   "cell_type": "markdown",
   "metadata": {},
   "source": []
  },
  {
   "cell_type": "markdown",
   "metadata": {},
   "source": [
    "#### Decision by Age of Partner\n",
    "Though the distributions look nearly identical suggesting little to no relationship between decision and the age of the partner.  The significance of the anova test could be attributed to the sample size. Eta squared indicates that just 0.2% of the variance in the decision was explained by the age of the partner.  Little practical significance."
   ]
  },
  {
   "cell_type": "code",
   "execution_count": null,
   "metadata": {},
   "outputs": [],
   "source": [
    "x = 'age_o'\n",
    "y = 'decision_c'\n",
    "i,d,p = bivariate.analysis(df, x, y);\n",
    "print(color.BOLD + \"Descriptive Statistics of Decision by Age of Partner\" + color.END)\n",
    "d\n",
    "print(color.BOLD + \"Analysis of Variance of Decision by Age of Partner\" + color.END)\n",
    "i"
   ]
  },
  {
   "cell_type": "markdown",
   "metadata": {},
   "source": [
    "#### Decision by Difference in Age\n",
    "Again, the distributions look almost identical. There is a slight difference indicated by the boxplots, however the anova test indicates that there was no practical difference in decisions by the difference in age."
   ]
  },
  {
   "cell_type": "code",
   "execution_count": null,
   "metadata": {},
   "outputs": [],
   "source": [
    "x = 'd_age'\n",
    "y = 'decision_c'\n",
    "i,d,p = bivariate.analysis(df, x, y);\n",
    "print(color.BOLD + \"Descriptive Statistics of Decision by Difference in Age\" + color.END)\n",
    "d\n",
    "print(color.BOLD + \"Analysis of Variance of Decision by Difference in Age\" + color.END)\n",
    "i"
   ]
  },
  {
   "cell_type": "markdown",
   "metadata": {},
   "source": [
    "#### Decision by Race\n",
    "Though the analysis of variance test shows a weak association, their was a difference in the proportion of yes decisions across the races.  For instance, the proportion of yes decisions amongst caucasians was significantly higher than that of black participants. This may be a consequence of the numbers of participants by race, especially if same race was a factor. There were more caucasians than the other races combined. "
   ]
  },
  {
   "cell_type": "code",
   "execution_count": null,
   "metadata": {},
   "outputs": [],
   "source": [
    "x = 'race'\n",
    "y = 'decision_c'\n",
    "i,d,p = bivariate.analysis(df, x, y);\n",
    "print(color.BOLD + \"Descriptive Statistics of Decision by Race\" + color.END)\n",
    "d\n",
    "print(color.BOLD + \"Analysis of Variance of Decision by Race\" + color.END)\n",
    "i"
   ]
  },
  {
   "cell_type": "markdown",
   "metadata": {},
   "source": [
    "#### Decision by Race of the Partner\n",
    "Again we see a weak association between decision and race of the partner, yet stronger than the association between race and decision."
   ]
  },
  {
   "cell_type": "code",
   "execution_count": null,
   "metadata": {},
   "outputs": [],
   "source": [
    "x = 'race_o'\n",
    "y = 'decision_c'\n",
    "i,d,p = bivariate.analysis(df, x, y);\n",
    "print(color.BOLD + \"Descriptive Statistics of Decision by Race of Partner\" + color.END)\n",
    "d\n",
    "print(color.BOLD + \"Analysis of Variance of Decision by Race of Partner\" + color.END)\n",
    "i"
   ]
  },
  {
   "cell_type": "markdown",
   "metadata": {},
   "source": [
    "#### Decision by Same Race Indicator\n",
    "There appears to be no significant difference between the proportion of yes decisions based upon same race."
   ]
  },
  {
   "cell_type": "code",
   "execution_count": null,
   "metadata": {},
   "outputs": [],
   "source": [
    "x = 'samerace_c'\n",
    "y = 'decision_c'\n",
    "i,d,p = bivariate.analysis(df, x, y);\n",
    "print(color.BOLD + \"Descriptive Statistics of Decision by Same Race\" + color.END)\n",
    "d\n",
    "print(color.BOLD + \"Cramer's V Decision by Same Race\" + color.END)\n",
    "i"
   ]
  },
  {
   "cell_type": "markdown",
   "metadata": {},
   "source": [
    "#### Decisions by Subject Self-Rating\n",
    "Here we examine the decisions by subjects ratings of themselves along the following dimensions: \n",
    "* Attractiveness\n",
    "* Sincerity\n",
    "* Intelligence\n",
    "* Humor\n",
    "* Ambition"
   ]
  },
  {
   "cell_type": "markdown",
   "metadata": {},
   "source": [
    "#### Decision by Self-Rating of Attractiveness\n",
    "Overall, little practical significance in the decisions by self-rating of attractiveness. That said, there was much more variation in the self-ratings among those that made the no decision, than those who chose yes."
   ]
  },
  {
   "cell_type": "code",
   "execution_count": null,
   "metadata": {},
   "outputs": [],
   "source": [
    "x = 'attractive'\n",
    "y = 'decision_c'\n",
    "i,d,p = bivariate.analysis(df, x, y);\n",
    "print(color.BOLD + \"Descriptive Statistics of Decision by Attractive Self-Rating\" + color.END)\n",
    "d\n",
    "print(color.BOLD + \"Analysis of Variance of Decision by Attractive Self-Rating\" + color.END)\n",
    "i"
   ]
  },
  {
   "cell_type": "markdown",
   "metadata": {},
   "source": [
    "#### Decision by Self-Rating of Sincere\n",
    "Distributions nearly identical"
   ]
  },
  {
   "cell_type": "code",
   "execution_count": null,
   "metadata": {},
   "outputs": [],
   "source": [
    "x = 'sincere'\n",
    "y = 'decision_c'\n",
    "i,d,p = bivariate.analysis(df, x, y);\n",
    "print(color.BOLD + \"Descriptive Statistics of Decision by Sincerity Self-Rating\" + color.END)\n",
    "d\n",
    "print(color.BOLD + \"Analysis of Variance of Decision by Sincerity Self-Rating\" + color.END)\n",
    "i"
   ]
  },
  {
   "cell_type": "markdown",
   "metadata": {},
   "source": [
    "#### Decision by Self-Rating of Intelligence\n",
    "Again, distributions nearly identical"
   ]
  },
  {
   "cell_type": "code",
   "execution_count": null,
   "metadata": {},
   "outputs": [],
   "source": [
    "x = 'intelligence'\n",
    "y = 'decision_c'\n",
    "i,d,p = bivariate.analysis(df, x, y);\n",
    "print(color.BOLD + \"Descriptive Statistics of Decision by Intelligence Self-Rating\" + color.END)\n",
    "d\n",
    "print(color.BOLD + \"Analysis of Variance of Decision by Intelligence Self-Rating\" + color.END)\n",
    "i"
   ]
  },
  {
   "cell_type": "markdown",
   "metadata": {},
   "source": [
    "#### Decision by Self-Rating of Humor\n",
    "Again, distributions nearly identical"
   ]
  },
  {
   "cell_type": "code",
   "execution_count": null,
   "metadata": {},
   "outputs": [],
   "source": [
    "x = 'funny'\n",
    "y = 'decision_c'\n",
    "i,d,p = bivariate.analysis(df, x, y);\n",
    "print(color.BOLD + \"Descriptive Statistics of Decision by Humor Self-Rating\" + color.END)\n",
    "d\n",
    "print(color.BOLD + \"Analysis of Variance of Decision by Humor Self-Rating\" + color.END)\n",
    "i"
   ]
  },
  {
   "cell_type": "markdown",
   "metadata": {},
   "source": [
    "#### Decision by Self-Rating of Ambition\n",
    "Again, distributions nearly identical"
   ]
  },
  {
   "cell_type": "code",
   "execution_count": null,
   "metadata": {},
   "outputs": [],
   "source": [
    "x = 'ambitious'\n",
    "y = 'decision_c'\n",
    "i,d,p = bivariate.analysis(df, x, y);\n",
    "print(color.BOLD + \"Descriptive Statistics of Decision by Ambition Self-Rating\" + color.END)\n",
    "d\n",
    "print(color.BOLD + \"Analysis of Variance of Decision by Ambition Self-Rating\" + color.END)\n",
    "i"
   ]
  },
  {
   "cell_type": "markdown",
   "metadata": {},
   "source": [
    "#### Decisions by Rating of Partner\n",
    "Here we examine the decisions by subjects ratings of their partner along the following dimensions: \n",
    "* Attractiveness\n",
    "* Sincerity\n",
    "* Intelligence\n",
    "* Humor\n",
    "* Ambition\n",
    "* Shared Interests"
   ]
  },
  {
   "cell_type": "markdown",
   "metadata": {},
   "source": [
    "#### Decision by Subject Rating of Partner Attractiveness\n",
    "Significant difference, as expected, in the decisions based upon the attractiveness of partner.  Accounted for 24% of the total variance. "
   ]
  },
  {
   "cell_type": "code",
   "execution_count": null,
   "metadata": {},
   "outputs": [],
   "source": [
    "x = 'attractive_partner'\n",
    "y = 'decision_c'\n",
    "i,d,p = bivariate.analysis(df, x, y);\n",
    "print(color.BOLD + \"Descriptive Statistics of Decision by Attractiveness of Partner\" + color.END)\n",
    "d\n",
    "print(color.BOLD + \"Analysis of Variance of Decision by Attractiveness of Partner\" + color.END)\n",
    "i"
   ]
  },
  {
   "cell_type": "markdown",
   "metadata": {},
   "source": [
    "#### Decision by Subject Rating of Partner Sincerity\n",
    "Significant statistical difference in decision for those found to be sincere, though this accounted for less than 5% of the variance observed."
   ]
  },
  {
   "cell_type": "code",
   "execution_count": null,
   "metadata": {},
   "outputs": [],
   "source": [
    "x = 'sincere_partner'\n",
    "y = 'decision_c'\n",
    "i,d,p = bivariate.analysis(df, x, y);\n",
    "print(color.BOLD + \"Descriptive Statistics of Decision by Sincerity of Partner\" + color.END)\n",
    "d\n",
    "print(color.BOLD + \"Analysis of Variance of Decision by Sincerity of Partner\" + color.END)\n",
    "i"
   ]
  },
  {
   "cell_type": "markdown",
   "metadata": {},
   "source": [
    "#### Decision by Subject Rating of Partner Inteligence\n",
    "Again, statistically significant number of yes decisions for those found to be intelligent."
   ]
  },
  {
   "cell_type": "code",
   "execution_count": null,
   "metadata": {},
   "outputs": [],
   "source": [
    "x = 'intelligence_partner'\n",
    "y = 'decision_c'\n",
    "i,d,p = bivariate.analysis(df, x, y);\n",
    "print(color.BOLD + \"Descriptive Statistics of Decision by Intelligence of Partner\" + color.END)\n",
    "d\n",
    "print(color.BOLD + \"Analysis of Variance of Decision by Intelligence of Partner\" + color.END)\n",
    "i"
   ]
  },
  {
   "cell_type": "markdown",
   "metadata": {},
   "source": [
    "#### Decision by Subject Rating of Partner Humor\n",
    "Sense of humor a significant indicator of the a decision to pursue a second date. Accounted for 18% of total variance."
   ]
  },
  {
   "cell_type": "code",
   "execution_count": null,
   "metadata": {},
   "outputs": [],
   "source": [
    "x = 'funny_partner'\n",
    "y = 'decision_c'\n",
    "i,d,p = bivariate.analysis(df, x, y);\n",
    "print(color.BOLD + \"Descriptive Statistics of Decision by Humor of Partner\" + color.END)\n",
    "d\n",
    "print(color.BOLD + \"Analysis of Variance of Decision by Humor of Partner\" + color.END)\n",
    "i"
   ]
  },
  {
   "cell_type": "markdown",
   "metadata": {},
   "source": [
    "#### Decision by Subject Rating of Partner Ambition\n",
    "Statistically significant, but not practically significant."
   ]
  },
  {
   "cell_type": "code",
   "execution_count": null,
   "metadata": {},
   "outputs": [],
   "source": [
    "x = 'ambitious_partner'\n",
    "y = 'decision_c'\n",
    "i,d,p = bivariate.analysis(df, x, y);\n",
    "print(color.BOLD + \"Descriptive Statistics of Decision by Ambition of Partner\" + color.END)\n",
    "d\n",
    "print(color.BOLD + \"Analysis of Variance of Decision by Ambition of Partner\" + color.END)\n",
    "i"
   ]
  },
  {
   "cell_type": "markdown",
   "metadata": {},
   "source": [
    "#### Decision by Subject Rating of Partner Shared-Interests\n",
    "Both statistically and practically signficant predictor of decision. Accounted for 17% of variance."
   ]
  },
  {
   "cell_type": "code",
   "execution_count": null,
   "metadata": {
    "scrolled": true
   },
   "outputs": [],
   "source": [
    "x = 'shared_interests_partner'\n",
    "y = 'decision_c'\n",
    "i,d,p = bivariate.analysis(df, x, y);\n",
    "print(color.BOLD + \"Descriptive Statistics of Decision by Partner Shared Interests\" + color.END)\n",
    "d\n",
    "print(color.BOLD + \"Analysis of Variance of Decision by Partner Shared Interests\" + color.END)\n",
    "i"
   ]
  },
  {
   "cell_type": "markdown",
   "metadata": {},
   "source": [
    "#### Decision by Whether the Couple has Met Before\n",
    "Whether the couple has met before shows a very week association with the decision."
   ]
  },
  {
   "cell_type": "code",
   "execution_count": null,
   "metadata": {
    "scrolled": true
   },
   "outputs": [],
   "source": [
    "x = 'met_c'\n",
    "y = 'decision_c'\n",
    "i,d,p = bivariate.analysis(df, x, y);\n",
    "print(color.BOLD + \"Descriptive Statistics of Decision by Partner Shared Interests\" + color.END)\n",
    "d\n",
    "print(color.BOLD + \"Analysis of Variance of Decision by Partner Shared Interests\" + color.END)\n",
    "i"
   ]
  },
  {
   "cell_type": "markdown",
   "metadata": {},
   "source": [
    "#### Decision by Relative Attractiveness\n",
    "This shows the decision by the subjects perception of their attractiveness vis-a-vis their perception of their partners attractiveness. This analysis shows a significant difference in decisions based upon the subject's perception of their attractiveness, relative to their perceptions of their partner's attractiveness.  In short, the mean and median difference was positive for yes decisions and negative for no decisions. This implies that subjects primarily preferred partners that they preceived to be equal to or greater than their self-preception of attractiveness.  The amount of variance explained is 14.5%."
   ]
  },
  {
   "cell_type": "code",
   "execution_count": null,
   "metadata": {
    "scrolled": true
   },
   "outputs": [],
   "source": [
    "x = 'rd_attractive'\n",
    "y = 'decision_c'\n",
    "i,d,p = bivariate.analysis(df, x, y);\n",
    "print(color.BOLD + \"Descriptive Statistics of Decision by Relative Attractiveness\" + color.END)\n",
    "d\n",
    "print(color.BOLD + \"Analysis of Variance of Decision by Relative Attractiveness\" + color.END)\n",
    "i"
   ]
  },
  {
   "cell_type": "markdown",
   "metadata": {},
   "source": [
    "#### Decision by Relative Sincerety\n",
    "This shows the decision by the subjects perception of their sincerity vis-a-vis their perception of their partners sincerity. This analysis shows a significant difference in decisions based upon the subject's perception of their sincerity, relative to their perceptions of their partner's sincerity. In this case, the mean and median differences were negative; although, the differences were more profound for the no decisions. This would suggest a degree of tolerance for a lower level of sincerity."
   ]
  },
  {
   "cell_type": "code",
   "execution_count": null,
   "metadata": {
    "scrolled": true
   },
   "outputs": [],
   "source": [
    "x = 'rd_sincere'\n",
    "y = 'decision_c'\n",
    "i,d,p = bivariate.analysis(df, x, y);\n",
    "print(color.BOLD + \"Descriptive Statistics of Decision by Relative Sincerity\" + color.END)\n",
    "d\n",
    "print(color.BOLD + \"Analysis of Variance of Decision by Relative Sincerity\" + color.END)\n",
    "i"
   ]
  },
  {
   "cell_type": "markdown",
   "metadata": {},
   "source": [
    "#### Decision by Relative Intelligence\n",
    "This shows the decision by the subjects perception of their intelligence vis-a-vis their perception of their partners intelligence. This analysis shows a significant difference in decisions based upon the subject's perception of their intelligence, relative to their perceptions of their partner's intelligence. The distribution of differences were similar to those for attractiveness.  The mean and median for the 'yes' decision were non-negative; whereas, the mean and median for the no decision were negative. But in this case, the practical significance was low with a percent variance explained of 2%. "
   ]
  },
  {
   "cell_type": "code",
   "execution_count": null,
   "metadata": {
    "scrolled": true
   },
   "outputs": [],
   "source": [
    "x = 'rd_intelligence'\n",
    "y = 'decision_c'\n",
    "i,d,p = bivariate.analysis(df, x, y);\n",
    "print(color.BOLD + \"Descriptive Statistics of Decision by Relative Intelligence\" + color.END)\n",
    "d\n",
    "print(color.BOLD + \"Analysis of Variance of Decision by Relative Intelligence\" + color.END)\n",
    "i"
   ]
  },
  {
   "cell_type": "markdown",
   "metadata": {},
   "source": [
    "#### Decision by Relative Sense of Humor\n",
    "This shows the decision by the subjects perception of their Sense of Humor vis-a-vis their perception of their partners Sense of Humor. This analysis shows a significant difference in decisions based upon the subject's perception of their Sense of Humor, relative to their perceptions of their partner's Sense of Humor. The means and medians were negative for both yes and no decisions, indicating that most participants considered their partners 'funnier' than themselves. Yes decisions were associated with slight differences; whereas, the no decisions were associated with subject's perceptions of their partner being 'too funny'. The difference was both statistically and practically significant.  The variance explained by the subject's perception of the difference in sense of humor wsa 14%."
   ]
  },
  {
   "cell_type": "code",
   "execution_count": null,
   "metadata": {
    "scrolled": true
   },
   "outputs": [],
   "source": [
    "x = 'rd_funny'\n",
    "y = 'decision_c'\n",
    "i,d,p = bivariate.analysis(df, x, y);\n",
    "print(color.BOLD + \"Descriptive Statistics of Decision by Relative Sense of Humor\" + color.END)\n",
    "d\n",
    "print(color.BOLD + \"Analysis of Variance of Decision by Relative Sense of Humor\" + color.END)\n",
    "i"
   ]
  },
  {
   "cell_type": "markdown",
   "metadata": {},
   "source": [
    "#### Decision by Relative Ambition\n",
    "This shows the decision by the subjects perception of their Ambition vis-a-vis their perception of their partners Ambition. This analysis shows a significant difference in decisions based upon the subject's perception of their Ambition, relative to their perceptions of their partner's Ambition. The mean and median difference was non-negative for the yes decisions suggesting that most of the yes decisions were for partners with equal or greater ambition. The practical significance is indicated by 1% variance explained."
   ]
  },
  {
   "cell_type": "code",
   "execution_count": null,
   "metadata": {
    "scrolled": true
   },
   "outputs": [],
   "source": [
    "x = 'rd_ambitious'\n",
    "y = 'decision_c'\n",
    "i,d,p = bivariate.analysis(df, x, y);\n",
    "print(color.BOLD + \"Descriptive Statistics of Decision by Relative Ambition\" + color.END)\n",
    "d\n",
    "print(color.BOLD + \"Analysis of Variance of Decision by Relative Ambition\" + color.END)\n",
    "i"
   ]
  },
  {
   "cell_type": "markdown",
   "metadata": {},
   "source": [
    "### Decision Summary "
   ]
  },
  {
   "cell_type": "markdown",
   "metadata": {},
   "source": [
    "#### Categorical Predictors"
   ]
  },
  {
   "cell_type": "code",
   "execution_count": null,
   "metadata": {},
   "outputs": [],
   "source": [
    "independence.assoc_table(df, y='decision_c', threshold=0.1)"
   ]
  },
  {
   "cell_type": "markdown",
   "metadata": {},
   "source": [
    "#### Quantitative Predictors"
   ]
  },
  {
   "cell_type": "code",
   "execution_count": null,
   "metadata": {},
   "outputs": [],
   "source": [
    "independence.aov_table(df, y='decision_c', threshold=0.03)"
   ]
  },
  {
   "cell_type": "code",
   "execution_count": null,
   "metadata": {},
   "outputs": [],
   "source": []
  }
 ],
 "metadata": {
  "kernelspec": {
   "display_name": "Python 3",
   "language": "python",
   "name": "python3"
  },
  "language_info": {
   "codemirror_mode": {
    "name": "ipython",
    "version": 3
   },
   "file_extension": ".py",
   "mimetype": "text/x-python",
   "name": "python",
   "nbconvert_exporter": "python",
   "pygments_lexer": "ipython3",
   "version": "3.6.5"
  }
 },
 "nbformat": 4,
 "nbformat_minor": 2
}
