{
 "cells": [
  {
   "cell_type": "markdown",
   "metadata": {},
   "source": [
    "# Conditions and Setting"
   ]
  },
  {
   "cell_type": "markdown",
   "metadata": {},
   "source": [
    "## Condition\n",
    "The association between gender, condition and decision was significant.  Female participants tended to make positive choices 25% more frequently when there was limited choice, then when choice was extensive. Condition did not seem to have an effect on decision for males."
   ]
  },
  {
   "cell_type": "code",
   "execution_count": 1,
   "metadata": {},
   "outputs": [],
   "source": [
    "# libraries\n",
    "%matplotlib inline\n",
    "\n",
    "import os\n",
    "import sys\n",
    "import inspect\n",
    "sys.path.append(\"../src\")\n",
    "\n",
    "from IPython.core.interactiveshell import InteractiveShell\n",
    "InteractiveShell.ast_node_interactivity = \"all\"\n",
    "\n",
    "import numpy as np\n",
    "import pandas as pd\n",
    "pd.set_option('display.max_colwidth', 500)\n",
    "import matplotlib.pyplot as plt\n",
    "import seaborn as sns\n",
    "import statsmodels.api as sm\n",
    "import statsmodels.formula.api as smf\n",
    "\n",
    "from shared import directories\n",
    "from shared import filenames\n",
    "from shared import variables\n",
    "from analysis import trivariate\n",
    "sys.path.append(directories.ANALYSIS_DIR)\n",
    "sys.path.append(directories.UTILITIES_DIR)\n",
    "\n",
    "import bivariate, independence, visual\n",
    "import warnings\n",
    "warnings.filterwarnings('ignore')"
   ]
  },
  {
   "cell_type": "markdown",
   "metadata": {},
   "source": [
    "## Data"
   ]
  },
  {
   "cell_type": "code",
   "execution_count": 2,
   "metadata": {},
   "outputs": [],
   "source": [
    "df = pd.read_csv(os.path.join(directories.INTERIM_DATA_DIR,\n",
    "                              filenames.INTERIM_FILENAME),\n",
    "                 encoding=\"Latin-1\", low_memory=False)\n",
    "df_columns = pd.read_csv(os.path.join(directories.EXTERNAL_DATA_DIR,\n",
    "                              filenames.COLUMNS_FILENAME),\n",
    "                 encoding=\"Latin-1\", low_memory=False)\n",
    "df_labels = pd.read_csv(os.path.join(directories.EXTERNAL_DATA_DIR,\n",
    "                              filenames.LABELS_FILENAME),\n",
    "                 encoding=\"Latin-1\", low_memory=False)\n",
    "df_columns = df_columns[(df_columns['sel']=='Y') & (df_columns['Predictor_Decision']=='Y')]\n",
    "df_males = df[df['gender']=='Male']\n",
    "df_females = df[df['gender']=='Female']\n",
    "df_yes = df[df['dec']=='Yes']\n",
    "df_yes_males = df[(df['dec']=='Yes')& (df['gender']=='Male')]\n",
    "df_yes_females = df[(df['dec']=='Yes')& (df['gender']=='Female')]"
   ]
  },
  {
   "cell_type": "markdown",
   "metadata": {},
   "source": [
    "## Analysis"
   ]
  },
  {
   "cell_type": "code",
   "execution_count": 4,
   "metadata": {
    "scrolled": false
   },
   "outputs": [
    {
     "data": {
      "image/png": "[encoded data removed]",
      "text/plain": [
       "<Figure size 432x288 with 3 Axes>"
      ]
     },
     "execution_count": 4,
     "metadata": {},
     "output_type": "execute_result"
    },
    {
     "data": {
      "text/html": [
       "<div>\n",
       "<style scoped>\n",
       "    .dataframe tbody tr th:only-of-type {\n",
       "        vertical-align: middle;\n",
       "    }\n",
       "\n",
       "    .dataframe tbody tr th {\n",
       "        vertical-align: top;\n",
       "    }\n",
       "\n",
       "    .dataframe thead tr th {\n",
       "        text-align: left;\n",
       "    }\n",
       "\n",
       "    .dataframe thead tr:last-of-type th {\n",
       "        text-align: right;\n",
       "    }\n",
       "</style>\n",
       "<table border=\"1\" class=\"dataframe\">\n",
       "  <thead>\n",
       "    <tr>\n",
       "      <th>gender</th>\n",
       "      <th colspan=\"2\" halign=\"left\">Female</th>\n",
       "      <th colspan=\"2\" halign=\"left\">Male</th>\n",
       "    </tr>\n",
       "    <tr>\n",
       "      <th>condtn</th>\n",
       "      <th>Extensive Choice</th>\n",
       "      <th>Limited Choice</th>\n",
       "      <th>Extensive Choice</th>\n",
       "      <th>Limited Choice</th>\n",
       "    </tr>\n",
       "    <tr>\n",
       "      <th>dec</th>\n",
       "      <th></th>\n",
       "      <th></th>\n",
       "      <th></th>\n",
       "      <th></th>\n",
       "    </tr>\n",
       "  </thead>\n",
       "  <tbody>\n",
       "    <tr>\n",
       "      <th>No</th>\n",
       "      <td>0.649609</td>\n",
       "      <td>0.550234</td>\n",
       "      <td>0.528655</td>\n",
       "      <td>0.526075</td>\n",
       "    </tr>\n",
       "    <tr>\n",
       "      <th>Yes</th>\n",
       "      <td>0.350391</td>\n",
       "      <td>0.449766</td>\n",
       "      <td>0.471345</td>\n",
       "      <td>0.473925</td>\n",
       "    </tr>\n",
       "  </tbody>\n",
       "</table>\n",
       "</div>"
      ],
      "text/plain": [
       "gender           Female                            Male               \n",
       "condtn Extensive Choice Limited Choice Extensive Choice Limited Choice\n",
       "dec                                                                   \n",
       "No             0.649609       0.550234         0.528655       0.526075\n",
       "Yes            0.350391       0.449766         0.471345       0.473925"
      ]
     },
     "execution_count": 4,
     "metadata": {},
     "output_type": "execute_result"
    },
    {
     "data": {
      "text/html": [
       "<div>\n",
       "<style scoped>\n",
       "    .dataframe tbody tr th:only-of-type {\n",
       "        vertical-align: middle;\n",
       "    }\n",
       "\n",
       "    .dataframe tbody tr th {\n",
       "        vertical-align: top;\n",
       "    }\n",
       "\n",
       "    .dataframe thead tr th {\n",
       "        text-align: left;\n",
       "    }\n",
       "\n",
       "    .dataframe thead tr:last-of-type th {\n",
       "        text-align: right;\n",
       "    }\n",
       "</style>\n",
       "<table border=\"1\" class=\"dataframe\">\n",
       "  <thead>\n",
       "    <tr>\n",
       "      <th>gender</th>\n",
       "      <th colspan=\"2\" halign=\"left\">Female</th>\n",
       "      <th colspan=\"2\" halign=\"left\">Male</th>\n",
       "      <th>All</th>\n",
       "    </tr>\n",
       "    <tr>\n",
       "      <th>condtn</th>\n",
       "      <th>Extensive Choice</th>\n",
       "      <th>Limited Choice</th>\n",
       "      <th>Extensive Choice</th>\n",
       "      <th>Limited Choice</th>\n",
       "      <th></th>\n",
       "    </tr>\n",
       "    <tr>\n",
       "      <th>dec</th>\n",
       "      <th></th>\n",
       "      <th></th>\n",
       "      <th></th>\n",
       "      <th></th>\n",
       "      <th></th>\n",
       "    </tr>\n",
       "  </thead>\n",
       "  <tbody>\n",
       "    <tr>\n",
       "      <th>No</th>\n",
       "      <td>41892</td>\n",
       "      <td>3527</td>\n",
       "      <td>33706</td>\n",
       "      <td>3450</td>\n",
       "      <td>82575</td>\n",
       "    </tr>\n",
       "    <tr>\n",
       "      <th>Yes</th>\n",
       "      <td>22596</td>\n",
       "      <td>2883</td>\n",
       "      <td>30052</td>\n",
       "      <td>3108</td>\n",
       "      <td>58639</td>\n",
       "    </tr>\n",
       "    <tr>\n",
       "      <th>All</th>\n",
       "      <td>64488</td>\n",
       "      <td>6410</td>\n",
       "      <td>63758</td>\n",
       "      <td>6558</td>\n",
       "      <td>141214</td>\n",
       "    </tr>\n",
       "  </tbody>\n",
       "</table>\n",
       "</div>"
      ],
      "text/plain": [
       "gender           Female                            Male                    All\n",
       "condtn Extensive Choice Limited Choice Extensive Choice Limited Choice        \n",
       "dec                                                                           \n",
       "No                41892           3527            33706           3450   82575\n",
       "Yes               22596           2883            30052           3108   58639\n",
       "All               64488           6410            63758           6558  141214"
      ]
     },
     "execution_count": 4,
     "metadata": {},
     "output_type": "execute_result"
    },
    {
     "data": {
      "text/html": [
       "<div>\n",
       "<style scoped>\n",
       "    .dataframe tbody tr th:only-of-type {\n",
       "        vertical-align: middle;\n",
       "    }\n",
       "\n",
       "    .dataframe tbody tr th {\n",
       "        vertical-align: top;\n",
       "    }\n",
       "\n",
       "    .dataframe thead th {\n",
       "        text-align: right;\n",
       "    }\n",
       "</style>\n",
       "<table border=\"1\" class=\"dataframe\">\n",
       "  <thead>\n",
       "    <tr style=\"text-align: right;\">\n",
       "      <th></th>\n",
       "      <th>x</th>\n",
       "      <th>y</th>\n",
       "      <th>z</th>\n",
       "      <th>p-Value</th>\n",
       "      <th>Cramer's V</th>\n",
       "      <th>Strength</th>\n",
       "      <th>Result</th>\n",
       "    </tr>\n",
       "  </thead>\n",
       "  <tbody>\n",
       "    <tr>\n",
       "      <th>0</th>\n",
       "      <td>gender</td>\n",
       "      <td>condtn</td>\n",
       "      <td>dec</td>\n",
       "      <td>0.0</td>\n",
       "      <td>0.085568</td>\n",
       "      <td>Very Weak Association</td>\n",
       "      <td>Significant</td>\n",
       "    </tr>\n",
       "  </tbody>\n",
       "</table>\n",
       "</div>"
      ],
      "text/plain": [
       "        x       y    z  p-Value  Cramer's V               Strength  \\\n",
       "0  gender  condtn  dec      0.0    0.085568  Very Weak Association   \n",
       "\n",
       "        Result  \n",
       "0  Significant  "
      ]
     },
     "execution_count": 4,
     "metadata": {},
     "output_type": "execute_result"
    },
    {
     "data": {
      "image/png": "[encoded data removed]",
      "text/plain": [
       "<Figure size 432x288 with 3 Axes>"
      ]
     },
     "metadata": {
      "needs_background": "light"
     },
     "output_type": "display_data"
    }
   ],
   "source": [
    "i, d, p = trivariate.analysis(df, x='gender', y='condtn', z='dec')\n",
    "p\n",
    "d['pct']\n",
    "d['count']\n",
    "i"
   ]
  }
 ],
 "metadata": {
  "kernelspec": {
   "display_name": "Python 3",
   "language": "python",
   "name": "python3"
  },
  "language_info": {
   "codemirror_mode": {
    "name": "ipython",
    "version": 3
   },
   "file_extension": ".py",
   "mimetype": "text/x-python",
   "name": "python",
   "nbconvert_exporter": "python",
   "pygments_lexer": "ipython3",
   "version": "3.7.0"
  }
 },
 "nbformat": 4,
 "nbformat_minor": 2
}
