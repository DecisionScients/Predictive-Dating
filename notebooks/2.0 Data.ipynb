{
 "cells": [
  {
   "cell_type": "markdown",
   "metadata": {},
   "source": [
    "# 2.0 Data\n",
    "This notebook does extracts the variables of interest, splits the data into training, validation and test sets, then saves the data for downstream analysis and modeling.  \n"
   ]
  },
  {
   "cell_type": "code",
   "execution_count": 1,
   "metadata": {},
   "outputs": [],
   "source": [
    "# libraries\n",
    "import os\n",
    "import sys\n",
    "import inspect\n",
    "sys.path.append(\"../src\")\n",
    "\n",
    "import numpy as np\n",
    "import pandas as pd\n",
    "from sklearn.model_selection import train_test_split\n",
    "\n",
    "from shared import directories\n",
    "from shared import filenames\n",
    "from shared import variables"
   ]
  },
  {
   "cell_type": "markdown",
   "metadata": {},
   "source": [
    "### Obtain raw data"
   ]
  },
  {
   "cell_type": "code",
   "execution_count": 2,
   "metadata": {},
   "outputs": [],
   "source": [
    "df = pd.read_csv(os.path.join(directories.RAW_DATA_DIR,\n",
    "                              filenames.RAW_FILENAME),\n",
    "                 encoding=\"Latin-1\", low_memory=False)"
   ]
  },
  {
   "cell_type": "markdown",
   "metadata": {},
   "source": [
    "### Extract variables of interest"
   ]
  },
  {
   "cell_type": "code",
   "execution_count": 3,
   "metadata": {},
   "outputs": [],
   "source": [
    "delete = ['has_null', 'd_d_age','importance_same_religion','d_importance_same_race', 'd_importance_same_religion', 'field', \n",
    "          'd_pref_o_attractive','d_pref_o_sincere', 'd_pref_o_intelligence', 'd_pref_o_funny', 'd_pref_o_ambitious',\n",
    "          'd_pref_o_shared_interests', 'd_attractive_o', 'd_sinsere_o', 'd_intelligence_o', 'd_funny_o', 'd_ambitous_o',\n",
    "          'd_shared_interests_o', 'd_attractive_important', 'd_sincere_important', 'd_intellicence_important', \n",
    "          'd_funny_important', 'd_ambtition_important', 'd_shared_interests_important', 'd_attractive', 'd_sincere',\n",
    "          'd_intelligence', 'd_funny', 'd_ambition', 'd_attractive_partner', 'd_sincere_partner', 'd_intelligence_partner',\n",
    "          'd_funny_partner', 'd_ambition_partner', 'd_shared_interests_partner', 'd_sports', 'd_tvsports', 'd_exercise',\n",
    "          'd_dining', 'd_museums','d_art', 'd_hiking', 'd_gaming', 'd_clubbing', 'd_reading', 'd_tv', 'd_theater',\n",
    "          'd_movies', 'd_concerts', 'd_music', 'd_shopping', 'd_yoga', 'd_interests_correlate', 'expected_happy_with_sd_people',\n",
    "          'expected_num_interested_in_me', 'expected_num_matches', 'd_expected_happy_with_sd_people', \n",
    "          'd_expected_num_interested_in_me', 'd_expected_num_matches', 'like', 'guess_prob_liked', 'd_like',\n",
    "          'd_guess_prob_liked', 'met']\n",
    "df = df.drop(columns=delete)\n"
   ]
  },
  {
   "cell_type": "markdown",
   "metadata": {},
   "source": [
    "### Correct / Normalize Feature Names"
   ]
  },
  {
   "cell_type": "code",
   "execution_count": 4,
   "metadata": {},
   "outputs": [],
   "source": [
    "df.rename({'sinsere_o': 'sincere_o',\n",
    "           'intellicence_important': 'intelligence_important',\n",
    "           'ambtition_important': 'ambitious_important',\n",
    "           'ambition_partner': 'ambitious_partner',\n",
    "           'ambition' : 'ambitious',\n",
    "           'ambitous_o' : 'ambitious_o'},\n",
    "          inplace=True,\n",
    "          axis='columns')"
   ]
  },
  {
   "cell_type": "markdown",
   "metadata": {},
   "source": [
    "### Recode Race Levels\n",
    "Recode race labels for easy plotting and correct misspelled column names"
   ]
  },
  {
   "cell_type": "code",
   "execution_count": 5,
   "metadata": {},
   "outputs": [],
   "source": [
    "df['race'] = df['race'].replace({\n",
    "    'asian/pacific islander/asian-american': 'asian',\n",
    "    'european/caucasian-american': 'caucasian',\n",
    "    'black/african american': 'black',\n",
    "    'latino/hispanic american': 'latino',\n",
    "    'other': 'other'})\n",
    "df['race_o'] = df['race_o'].replace({\n",
    "    'asian/pacific islander/asian-american': 'asian',\n",
    "    'european/caucasian-american': 'caucasian',\n",
    "    'black/african american': 'black',\n",
    "    'latino/hispanic american': 'latino',\n",
    "    'other': 'other'})"
   ]
  },
  {
   "cell_type": "markdown",
   "metadata": {},
   "source": [
    "## Features\n",
    "### Participants per Wave\n",
    "Here we capture the number of males and females per wave. Also include the percentage of matches per wave = matches/2*wave size (since matches are double counted)"
   ]
  },
  {
   "cell_type": "code",
   "execution_count": 6,
   "metadata": {},
   "outputs": [],
   "source": [
    "df2 = df[df['gender'] == 'male'][['gender', 'wave', 'match']].groupby(['wave', 'gender']).agg(['count']).reset_index()\n",
    "df3 = df[df['gender'] == 'female'][['gender', 'wave', 'match']].groupby(['wave', 'gender']).agg(['count']).reset_index()\n",
    "df2.columns =['wave', 'gender', 'wave_males']\n",
    "df3.columns =['wave2', 'gender2', 'wave_females']\n",
    "df4 = pd.concat([df2, df3], axis=1)\n",
    "df4 = df4[['wave', 'wave_males', 'wave_females']]\n",
    "df4['wave_size'] = df4['wave_males'] + df4['wave_females']\n",
    "df = pd.merge(df, df4, on='wave')"
   ]
  },
  {
   "cell_type": "markdown",
   "metadata": {},
   "source": [
    "### Convert select numeric variables to categorical"
   ]
  },
  {
   "cell_type": "code",
   "execution_count": 7,
   "metadata": {},
   "outputs": [],
   "source": [
    "df.samerace = df.samerace.astype(object)\n",
    "df.wave = df.wave.astype(object)\n",
    "df['match'] = np.where(df['match']==0, 'Not Matched', 'Matched')"
   ]
  },
  {
   "cell_type": "markdown",
   "metadata": {},
   "source": [
    "### Difference in Perceptions\n",
    "The differences between self and partner perceptions along the six characteristics being studies. Specifically, interested in\n",
    "    1. the differences between the subjects self-perception and their partner's assessment of them across the six\n",
    "    characteristics being studied, and    \n",
    "    2. the differences between the subjects self-perceptions and their perceptions of their partner"
   ]
  },
  {
   "cell_type": "code",
   "execution_count": 8,
   "metadata": {},
   "outputs": [],
   "source": [
    "# Compute difference in subject self rating and rating of partner (positive number means higher score for subject, from subject's perspective)\n",
    "df['rel_attractive_s'] = (df['attractive'] - df['attractive_partner']) / df['attractive']\n",
    "df['rel_sincere_s'] = (df['sincere'] - df['sincere_partner']) / df['sincere']\n",
    "df['rel_intelligence_s'] = (df['intelligence'] - df['intelligence_partner']) / df['intelligence']\n",
    "df['rel_funny_s'] = (df['funny'] - df['funny_partner']) / df['funny']\n",
    "df['rel_ambitious_s'] = (df['ambitious'] - df['ambitious_partner']) / df['ambitious']\n",
    "\n",
    "# Compute partner perception of relative difference in subject and partner impressions (positive number is good, 0 means agreement)\n",
    "df['rel_attractive_o'] = (df['attractive_o'] - df['attractive']) / df['attractive']\n",
    "df['rel_sincere_o'] = (df['sincere_o'] - df['sincere']) / df['sincere']\n",
    "df['rel_intelligence_o'] = (df['intelligence_o'] - df['intelligence']) / df['intelligence']\n",
    "df['rel_funny_o'] = (df['funny_o'] - df['funny']) / df['funny']\n",
    "df['rel_ambitious_o'] = (df['ambitious_o'] - df['ambitious']) / df['ambitious']   "
   ]
  },
  {
   "cell_type": "markdown",
   "metadata": {},
   "source": [
    "### Split into training, validation and test sets. \n",
    "First split data set into a training/test sets 80/20. Then split training set into training/validation sets 80/20"
   ]
  },
  {
   "cell_type": "code",
   "execution_count": 9,
   "metadata": {},
   "outputs": [],
   "source": [
    "train, test = train_test_split(df, test_size=0.2, random_state=5)\n",
    "train, validation = train_test_split(train, test_size=0.2, random_state=5)"
   ]
  },
  {
   "cell_type": "markdown",
   "metadata": {},
   "source": [
    "### Save data \n",
    "Save training, validation and test sets in an interim directory for exploratory data analysis"
   ]
  },
  {
   "cell_type": "code",
   "execution_count": 10,
   "metadata": {},
   "outputs": [],
   "source": [
    "def write(df, directory, filename):\n",
    "    if isinstance(df, pd.DataFrame):\n",
    "        if isinstance(filename, str):\n",
    "            if not os.path.isdir(directory):\n",
    "                os.mkdir(directory)\n",
    "            df.to_csv(os.path.join(directory, filename),\n",
    "                      index=False, index_label=False)\n",
    "            return(True)\n",
    "        else:\n",
    "            return(False)\n",
    "    else:\n",
    "        return(False)"
   ]
  },
  {
   "cell_type": "code",
   "execution_count": 11,
   "metadata": {},
   "outputs": [
    {
     "name": "stdout",
     "output_type": "stream",
     "text": [
      "<class 'pandas.core.frame.DataFrame'>\n",
      "Int64Index: 5361 entries, 4364 to 7459\n",
      "Data columns (total 72 columns):\n",
      "wave                          5361 non-null object\n",
      "gender                        5361 non-null object\n",
      "age                           5303 non-null float64\n",
      "age_o                         5286 non-null float64\n",
      "d_age                         5361 non-null int64\n",
      "race                          5324 non-null object\n",
      "race_o                        5305 non-null object\n",
      "samerace                      5361 non-null object\n",
      "importance_same_race          5311 non-null float64\n",
      "pref_o_attractive             5297 non-null float64\n",
      "pref_o_sincere                5297 non-null float64\n",
      "pref_o_intelligence           5297 non-null float64\n",
      "pref_o_funny                  5289 non-null float64\n",
      "pref_o_ambitious              5281 non-null float64\n",
      "pref_o_shared_interests       5268 non-null float64\n",
      "attractive_o                  5210 non-null float64\n",
      "sincere_o                     5163 non-null float64\n",
      "intelligence_o                5149 non-null float64\n",
      "funny_o                       5116 non-null float64\n",
      "ambitious_o                   4898 non-null float64\n",
      "shared_interests_o            4661 non-null float64\n",
      "attractive_important          5311 non-null float64\n",
      "sincere_important             5311 non-null float64\n",
      "intelligence_important        5311 non-null float64\n",
      "funny_important               5307 non-null float64\n",
      "ambitious_important           5300 non-null float64\n",
      "shared_interests_important    5287 non-null float64\n",
      "attractive                    5292 non-null float64\n",
      "sincere                       5292 non-null float64\n",
      "intelligence                  5292 non-null float64\n",
      "funny                         5292 non-null float64\n",
      "ambitious                     5292 non-null float64\n",
      "attractive_partner            5224 non-null float64\n",
      "sincere_partner               5180 non-null float64\n",
      "intelligence_partner          5168 non-null float64\n",
      "funny_partner                 5128 non-null float64\n",
      "ambitious_partner             4898 non-null float64\n",
      "shared_interests_partner      4670 non-null float64\n",
      "sports                        5311 non-null float64\n",
      "tvsports                      5311 non-null float64\n",
      "exercise                      5311 non-null float64\n",
      "dining                        5311 non-null float64\n",
      "museums                       5311 non-null float64\n",
      "art                           5311 non-null float64\n",
      "hiking                        5311 non-null float64\n",
      "gaming                        5311 non-null float64\n",
      "clubbing                      5311 non-null float64\n",
      "reading                       5311 non-null float64\n",
      "tv                            5311 non-null float64\n",
      "theater                       5311 non-null float64\n",
      "movies                        5311 non-null float64\n",
      "concerts                      5311 non-null float64\n",
      "music                         5311 non-null float64\n",
      "shopping                      5311 non-null float64\n",
      "yoga                          5311 non-null float64\n",
      "interests_correlate           5256 non-null float64\n",
      "decision                      5361 non-null int64\n",
      "decision_o                    5361 non-null int64\n",
      "match                         5361 non-null object\n",
      "wave_males                    5361 non-null int64\n",
      "wave_females                  5361 non-null int64\n",
      "wave_size                     5361 non-null int64\n",
      "rel_attractive_s              5162 non-null float64\n",
      "rel_sincere_s                 5118 non-null float64\n",
      "rel_intelligence_s            5106 non-null float64\n",
      "rel_funny_s                   5066 non-null float64\n",
      "rel_ambitious_s               4837 non-null float64\n",
      "rel_attractive_o              5149 non-null float64\n",
      "rel_sincere_o                 5104 non-null float64\n",
      "rel_intelligence_o            5089 non-null float64\n",
      "rel_funny_o                   5056 non-null float64\n",
      "rel_ambitious_o               4840 non-null float64\n",
      "dtypes: float64(60), int64(6), object(6)\n",
      "memory usage: 3.0+ MB\n"
     ]
    }
   ],
   "source": [
    "write(train, directories.INTERIM_DATA_DIR, filenames.TRAIN_FILENAME)\n",
    "write(validation, directories.INTERIM_DATA_DIR, filenames.VALIDATION_FILENAME)\n",
    "write(test, directories.INTERIM_DATA_DIR, filenames.TEST_FILENAME)\n",
    "train.info()"
   ]
  },
  {
   "cell_type": "code",
   "execution_count": null,
   "metadata": {},
   "outputs": [],
   "source": []
  }
 ],
 "metadata": {
  "kernelspec": {
   "display_name": "Python 3",
   "language": "python",
   "name": "python3"
  },
  "language_info": {
   "codemirror_mode": {
    "name": "ipython",
    "version": 3
   },
   "file_extension": ".py",
   "mimetype": "text/x-python",
   "name": "python",
   "nbconvert_exporter": "python",
   "pygments_lexer": "ipython3",
   "version": "3.6.5"
  }
 },
 "nbformat": 4,
 "nbformat_minor": 2
}
