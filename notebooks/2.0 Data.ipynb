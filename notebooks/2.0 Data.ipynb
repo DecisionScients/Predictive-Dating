{
 "cells": [
  {
   "cell_type": "markdown",
   "metadata": {},
   "source": [
    "# 2.0 Data\n",
    "This notebook does extracts the variables of interest, splits the data into training, validation and test sets, then saves the data for downstream analysis and modeling.  \n"
   ]
  },
  {
   "cell_type": "code",
   "execution_count": 1,
   "metadata": {},
   "outputs": [],
   "source": [
    "# libraries\n",
    "import os\n",
    "import sys\n",
    "import inspect\n",
    "sys.path.append(\"../src\")\n",
    "\n",
    "import pandas as pd\n",
    "from sklearn.model_selection import train_test_split\n",
    "\n",
    "from shared import directories\n",
    "from shared import filenames\n",
    "from shared import variables\n",
    "from visualization import visual"
   ]
  },
  {
   "cell_type": "markdown",
   "metadata": {},
   "source": [
    "### Obtain raw data"
   ]
  },
  {
   "cell_type": "code",
   "execution_count": 2,
   "metadata": {},
   "outputs": [],
   "source": [
    "df = pd.read_csv(os.path.join(directories.RAW_DATA_DIR,\n",
    "                              filenames.RAW_FILENAME),\n",
    "                 encoding=\"Latin-1\", low_memory=False)"
   ]
  },
  {
   "cell_type": "markdown",
   "metadata": {},
   "source": [
    "### Extract variables of interest"
   ]
  },
  {
   "cell_type": "code",
   "execution_count": 3,
   "metadata": {},
   "outputs": [],
   "source": [
    "omit = ['field']\n",
    "df = df.drop(columns=omit)"
   ]
  },
  {
   "cell_type": "markdown",
   "metadata": {},
   "source": [
    "### Correct / Normalize Feature Names"
   ]
  },
  {
   "cell_type": "code",
   "execution_count": 4,
   "metadata": {},
   "outputs": [],
   "source": [
    "df.rename({'sinsere_o': 'sincere_o',\n",
    "           'intellicence_important': 'intelligence_important',\n",
    "           'ambtition_important': 'ambitious_important',\n",
    "           'ambition_partner': 'ambitious_partner',\n",
    "           'ambition' : 'ambitious',\n",
    "           'ambitous_o' : 'ambitious_o'},\n",
    "          inplace=True,\n",
    "          axis='columns')"
   ]
  },
  {
   "cell_type": "markdown",
   "metadata": {},
   "source": [
    "### Recode Race Levels\n",
    "Recode race labels for easy plotting and correct misspelled column names"
   ]
  },
  {
   "cell_type": "code",
   "execution_count": 5,
   "metadata": {},
   "outputs": [],
   "source": [
    "df['race'] = df['race'].replace({\n",
    "    'asian/pacific islander/asian-american': 'asian',\n",
    "    'european/caucasian-american': 'caucasian',\n",
    "    'black/african american': 'black',\n",
    "    'latino/hispanic american': 'latino',\n",
    "    'other': 'other'})\n",
    "df['race_o'] = df['race_o'].replace({\n",
    "    'asian/pacific islander/asian-american': 'asian',\n",
    "    'european/caucasian-american': 'caucasian',\n",
    "    'black/african american': 'black',\n",
    "    'latino/hispanic american': 'latino',\n",
    "    'other': 'other'})"
   ]
  },
  {
   "cell_type": "markdown",
   "metadata": {},
   "source": [
    "## Features\n",
    "### Participants per Wave\n",
    "Here we capture the number of males and females per wave."
   ]
  },
  {
   "cell_type": "code",
   "execution_count": 6,
   "metadata": {},
   "outputs": [],
   "source": [
    "df2 = df[df['gender'] == 'male'][['gender', 'wave', 'has_null']].groupby(['wave', 'gender']).agg(['count']).reset_index()\n",
    "df3 = df[df['gender'] == 'female'][['gender', 'wave', 'has_null']].groupby(['wave', 'gender']).agg(['count']).reset_index()\n",
    "df2.columns =['wave', 'gender', 'wave_males']\n",
    "df3.columns =['wave2', 'gender2', 'wave_females']\n",
    "df4 = pd.concat([df2, df3], axis=1)\n",
    "df4 = df4[['wave', 'wave_males', 'wave_females']]\n",
    "df = pd.merge(df, df4, on='wave')"
   ]
  },
  {
   "cell_type": "markdown",
   "metadata": {},
   "source": [
    "### Difference in Perceptions\n",
    "The differences between self and partner perceptions along the six characteristics being studies. Specifically, interested in\n",
    "    1. the differences between the subjects self-perception and their partner's assessment of them across the six\n",
    "    characteristics being studied, and    \n",
    "    2. the differences between the subjects self-perceptions and their perceptions of their partner"
   ]
  },
  {
   "cell_type": "code",
   "execution_count": 7,
   "metadata": {},
   "outputs": [],
   "source": [
    "# Compute subject perception of relative differences\n",
    "df['rd_attractive'] = (df['attractive_partner'] - df['attractive']) / df['attractive']\n",
    "df['rd_sincere'] = (df['sincere_partner'] - df['sincere']) / df['sincere']\n",
    "df['rd_intelligence'] = (df['intelligence_partner'] - df['intelligence']) / df['intelligence']\n",
    "df['rd_funny'] = (df['funny_partner'] - df['funny']) / df['funny']\n",
    "df['rd_ambitious'] = (df['ambitious_partner'] - df['ambitious']) / df['ambitious']\n",
    "\n",
    "# Compute relative difference in subject and partner impressions\n",
    "df['rd_attractive_o'] = (df['attractive_o'] - df['attractive']) / df['attractive']\n",
    "df['rd_sincere_o'] = (df['sincere_o'] - df['sincere']) / df['sincere']\n",
    "df['rd_intelligence_o'] = (df['intelligence_o'] - df['intelligence']) / df['intelligence']\n",
    "df['rd_funny_o'] = (df['funny_o'] - df['funny']) / df['funny']\n",
    "df['rd_ambitious_o'] = (df['ambitious_o'] - df['ambitious']) / df['ambitious']   "
   ]
  },
  {
   "cell_type": "markdown",
   "metadata": {},
   "source": [
    "### Split into training, validation and test sets. \n",
    "First split data set into a training/test sets 80/20. Then split training set into training/validation sets 80/20"
   ]
  },
  {
   "cell_type": "code",
   "execution_count": 8,
   "metadata": {},
   "outputs": [],
   "source": [
    "train, test = train_test_split(df, test_size=0.2, random_state=5)\n",
    "train, validation = train_test_split(train, test_size=0.2, random_state=5)"
   ]
  },
  {
   "cell_type": "markdown",
   "metadata": {},
   "source": [
    "### Save data \n",
    "Save training, validation and test sets in an interim directory for exploratory data analysis"
   ]
  },
  {
   "cell_type": "code",
   "execution_count": 9,
   "metadata": {},
   "outputs": [],
   "source": [
    "def write(df, directory, filename):\n",
    "    if isinstance(df, pd.DataFrame):\n",
    "        if isinstance(filename, str):\n",
    "            if not os.path.isdir(directory):\n",
    "                os.mkdir(directory)\n",
    "            df.to_csv(os.path.join(directory, filename),\n",
    "                      index=False, index_label=False)\n",
    "            return(True)\n",
    "        else:\n",
    "            return(False)\n",
    "    else:\n",
    "        return(False)"
   ]
  },
  {
   "cell_type": "code",
   "execution_count": 10,
   "metadata": {},
   "outputs": [
    {
     "data": {
      "text/plain": [
       "True"
      ]
     },
     "execution_count": 10,
     "metadata": {},
     "output_type": "execute_result"
    }
   ],
   "source": [
    "write(train, directories.INTERIM_DATA_DIR, filenames.TRAIN_FILENAME)\n",
    "write(validation, directories.INTERIM_DATA_DIR, filenames.VALIDATION_FILENAME)\n",
    "write(test, directories.INTERIM_DATA_DIR, filenames.TEST_FILENAME)"
   ]
  },
  {
   "cell_type": "code",
   "execution_count": null,
   "metadata": {},
   "outputs": [],
   "source": []
  }
 ],
 "metadata": {
  "kernelspec": {
   "display_name": "Python 3",
   "language": "python",
   "name": "python3"
  },
  "language_info": {
   "codemirror_mode": {
    "name": "ipython",
    "version": 3
   },
   "file_extension": ".py",
   "mimetype": "text/x-python",
   "name": "python",
   "nbconvert_exporter": "python",
   "pygments_lexer": "ipython3",
   "version": "3.6.5"
  }
 },
 "nbformat": 4,
 "nbformat_minor": 2
}
