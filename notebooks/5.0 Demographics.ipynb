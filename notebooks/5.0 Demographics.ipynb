{
 "cells": [
  {
   "cell_type": "markdown",
   "metadata": {},
   "source": [
    "# 5 Demographics\n",
    "In this section, we evaluate basic demographics - age, gender, race, and income - and their effects on decision and yes rate. The study is broken into three main parts:\n",
    "* Univariate Analysis\n",
    "* Bivariate Analysis\n",
    "* Multivariate Analysis\n",
    "\n",
    "## 5.1 Key Findings\n"
   ]
  },
  {
   "cell_type": "code",
   "execution_count": null,
   "metadata": {},
   "outputs": [],
   "source": [
    "# libraries\n",
    "%matplotlib inline\n",
    "\n",
    "import os\n",
    "import sys\n",
    "import inspect\n",
    "\n",
    "currentdir = os.path.dirname(os.path.abspath(inspect.getfile(inspect.currentframe())))\n",
    "projdir = os.path.dirname(currentdir)\n",
    "srcdir = os.path.join(projdir,\"src\")\n",
    "datasrc = os.path.join(srcdir, \"data\")\n",
    "\n",
    "sys.path.insert(0,currentdir)\n",
    "sys.path.insert(0,projdir)\n",
    "sys.path.insert(0,srcdir)\n",
    "sys.path.insert(0,datasrc)\n",
    "from IPython.core.interactiveshell import InteractiveShell\n",
    "InteractiveShell.ast_node_interactivity = \"all\"\n",
    "\n",
    "import numpy as np\n",
    "import pandas as pd\n",
    "pd.set_option('display.max_colwidth', 500)\n",
    "import matplotlib.pyplot as plt\n",
    "import seaborn as sns\n",
    "import statsmodels.api as sm\n",
    "import statsmodels.formula.api as smf\n",
    "\n",
    "import read\n",
    "from shared import directories\n",
    "sys.path.append(directories.ANALYSIS_DIR)\n",
    "sys.path.append(directories.UTILITIES_DIR)\n",
    "from analysis import trivariate\n",
    "\n",
    "import univariate, bivariate, independence, visual, description\n",
    "import warnings\n",
    "warnings.filterwarnings('ignore')"
   ]
  },
  {
   "cell_type": "markdown",
   "metadata": {},
   "source": [
    "## 5.2 Data"
   ]
  },
  {
   "cell_type": "code",
   "execution_count": null,
   "metadata": {},
   "outputs": [],
   "source": [
    "# Get Data\n",
    "sd = read.read()\n",
    "df = sd['all']\n",
    "df_male = sd['male']\n",
    "df_female = sd['female']\n",
    "demographics = [\"age\",\"age_diff\",\"age_o\",\"gender\",\"income\",\"race\",\"race_o\"]\n",
    "df_demographics = df[demographics]\n",
    "df_male_demographics = df_male[demographics]\n",
    "df_female_demographics = df_female[demographics]"
   ]
  },
  {
   "cell_type": "markdown",
   "metadata": {},
   "source": [
    "## 5.3 Univariate Analysis"
   ]
  },
  {
   "cell_type": "markdown",
   "metadata": {},
   "source": [
    "### 5.3.1 Univariate Analysis Key Questions\n",
    "- What was the distribution of age?\n",
    "- What was the distribution of age differences?\n",
    "- What were the counts by gender?\n",
    "- What was the distribution of income?\n",
    "- What was the distribution of race?"
   ]
  },
  {
   "cell_type": "markdown",
   "metadata": {},
   "source": [
    "### 5.3.2 Univariate Analysis Key Findings\n",
    "Age\n",
    "- non-normal distribution with median of 26 and range[18,55] \n",
    "- 95 missing values\n",
    "\n",
    "Age Difference\n",
    "- Normally distributed\n",
    "- Mean age difference was about 6 months. \n",
    "- Ranged from [-32,20] \n",
    "- A negative age difference is when the male is younger than the female participant\n",
    "\n",
    "Gender\n",
    "- 10 more males than females in the dataset???\n",
    "\n",
    "Income\n",
    "- Median income was about \\$43K\n",
    "- Range was [\\$8.6k,\\$109k]\n",
    "- Distribution right skewed \n",
    "\n",
    "Race\n",
    "- The distribution of the races was \n",
    "    - Caucasian\t56%\n",
    "    - Latino\t8%\n",
    "    - Other\t7%\n",
    "    - Black\t5%"
   ]
  },
  {
   "cell_type": "code",
   "execution_count": null,
   "metadata": {},
   "outputs": [],
   "source": [
    "result = univariate.analysis(df_demographics)\n",
    "for r in result:\n",
    "    r['desc']\n",
    "    r['plot']\n"
   ]
  },
  {
   "cell_type": "markdown",
   "metadata": {},
   "source": [
    "## 5.4 Bivariate Analysis"
   ]
  },
  {
   "cell_type": "markdown",
   "metadata": {},
   "source": [
    "### 5.4.1 Bivariate Analysis: Independent Variables"
   ]
  },
  {
   "cell_type": "markdown",
   "metadata": {},
   "source": [
    "#### 5.4.1.1 Bivariate Analysis: Independent Variables: Key Questions    \n",
    "- What was the association of age and gender?\n",
    "- What was the association of income and gender?\n",
    "- What was the association of income by race?"
   ]
  },
  {
   "cell_type": "markdown",
   "metadata": {},
   "source": [
    "#### 5.4.1.1.1 Age and Gender\n",
    "Statistically significant difference in ages between genders.  Median male age was 27, female 26."
   ]
  },
  {
   "cell_type": "code",
   "execution_count": null,
   "metadata": {},
   "outputs": [],
   "source": [
    "i, d, p = bivariate.analysis(df,x='age', y='gender')\n",
    "p\n",
    "d\n",
    "i\n"
   ]
  },
  {
   "cell_type": "markdown",
   "metadata": {},
   "source": [
    "#### 5.4.1.1.2 Income and Gender\n",
    "Statistically significant difference in incomes by gender. Median male earnings were about $46k, females $42k"
   ]
  },
  {
   "cell_type": "code",
   "execution_count": null,
   "metadata": {},
   "outputs": [],
   "source": [
    "i, d, p = bivariate.analysis(df,x='income', y='gender')\n",
    "p\n",
    "d\n",
    "i\n"
   ]
  },
  {
   "cell_type": "markdown",
   "metadata": {},
   "source": [
    "#### 5.4.1.1.2 Income and Race\n",
    "Statistically significant difference in incomes by race. See median incomes below."
   ]
  },
  {
   "cell_type": "code",
   "execution_count": null,
   "metadata": {},
   "outputs": [],
   "source": [
    "i, d, p = bivariate.analysis(df,x='income', y='race')\n",
    "p\n",
    "d\n",
    "i\n"
   ]
  },
  {
   "cell_type": "markdown",
   "metadata": {},
   "source": [
    "#### 5.4.1.2 Bivariate Analysis: Dependent Variables: Decision: Key Questions        \n",
    "- To what degree was subject age and partner decision associated\n",
    "- To what degree was subject income and partner decision associated\n",
    "- To what degree was subject race and partner decision associated"
   ]
  },
  {
   "cell_type": "markdown",
   "metadata": {},
   "source": [
    "#### 5.4.1.2.1 Bivariate Analysis: Age and Decision"
   ]
  },
  {
   "cell_type": "code",
   "execution_count": null,
   "metadata": {},
   "outputs": [],
   "source": [
    "i, d, p = bivariate.analysis(df,x='age', y='dec_o')\n",
    "p\n",
    "d\n",
    "i\n"
   ]
  },
  {
   "cell_type": "markdown",
   "metadata": {},
   "source": [
    "#### 5.4.1.2.2 Bivariate Analysis: Income and Decision"
   ]
  },
  {
   "cell_type": "code",
   "execution_count": null,
   "metadata": {},
   "outputs": [],
   "source": [
    "i, d, p = bivariate.analysis(df,x='income', y='dec_o')\n",
    "p\n",
    "d\n",
    "i\n"
   ]
  },
  {
   "cell_type": "markdown",
   "metadata": {},
   "source": [
    "#### 5.4.1.2.3 Bivariate Analysis: Race and Decision"
   ]
  },
  {
   "cell_type": "code",
   "execution_count": null,
   "metadata": {
    "scrolled": true
   },
   "outputs": [],
   "source": [
    "i, d, p = bivariate.analysis(df,x='race', y='dec_o')\n",
    "p\n",
    "d\n",
    "i\n"
   ]
  },
  {
   "cell_type": "markdown",
   "metadata": {},
   "source": [
    "#### 5.4.1.3 Bivariate Analysis: Dependent Variables: Yes Rate: Key Questions    \n",
    "- To what degree was subject age and yes rate associated\n",
    "- To what degree was subject income and yes rate associated\n",
    "- To what degree was subject race and yes rate associated"
   ]
  },
  {
   "cell_type": "markdown",
   "metadata": {},
   "source": [
    "#### 5.4.1.3.1 Bivariate Analysis: Age and Yes Rate"
   ]
  },
  {
   "cell_type": "code",
   "execution_count": null,
   "metadata": {},
   "outputs": [],
   "source": [
    "i, d, p = bivariate.analysis(df,x='age', y='yes_rate')\n",
    "p\n",
    "d\n",
    "i\n"
   ]
  },
  {
   "cell_type": "markdown",
   "metadata": {},
   "source": [
    "#### 5.4.1.3.2 Bivariate Analysis: Income and Decision"
   ]
  },
  {
   "cell_type": "code",
   "execution_count": null,
   "metadata": {},
   "outputs": [],
   "source": [
    "i, d, p = bivariate.analysis(df,x='income', y='yes_rate')\n",
    "p\n",
    "d\n",
    "i\n"
   ]
  },
  {
   "cell_type": "markdown",
   "metadata": {},
   "source": [
    "#### 5.4.1.3.3 Bivariate Analysis: Race and Decision"
   ]
  },
  {
   "cell_type": "code",
   "execution_count": null,
   "metadata": {
    "scrolled": true
   },
   "outputs": [],
   "source": [
    "i, d, p = bivariate.analysis(df,x='race', y='yes_rate')\n",
    "p\n",
    "d\n",
    "i\n"
   ]
  },
  {
   "cell_type": "markdown",
   "metadata": {},
   "source": [
    "## 5.5 Multivariate Analysis"
   ]
  },
  {
   "cell_type": "markdown",
   "metadata": {},
   "source": [
    "#### 5.5.2.1 Multivariate Analysis: Dependent Variables: Decision: Key Questions        \n",
    "- What was the association between subject’s age, gender and partner decision\n",
    "- What was the association between subject’s income, gender and partner decision\n",
    "- What was the association between subject’s race, gender and partner decision\n",
    "- What was the association between subject’s income, race and partner decision\n",
    "- What was the association between subject’s income, race, gender and partner decision\n",
    "- What was the association between subject’s age, race, gender and partner decision "
   ]
  },
  {
   "cell_type": "markdown",
   "metadata": {},
   "source": [
    "#### 5.5.2.2 Multivariate Analysis: Dependent Variables: Decision: Key Findings"
   ]
  },
  {
   "cell_type": "markdown",
   "metadata": {},
   "source": [
    "#### 5.5.3.1 Multivariate Analysis: Dependent Variables: Yes Rate: Key Questions    \n",
    "- What was the association between subject’s age, gender and yes rate\n",
    "- What was the association between subject’s income, gender and yes rate\n",
    "- What was the association between subject’s race, gender and yes rate\n",
    "- What was the association between subject’s income, race and yes rate\n",
    "- What was the association between subject’s income, race, gender and yes rate\n",
    "- What was the association between subject’s income, race, gender and yes rate"
   ]
  },
  {
   "cell_type": "markdown",
   "metadata": {},
   "source": [
    "#### 5.5.3.2 Multivariate Analysis: Dependent Variables: Yes Rate: Key Findings"
   ]
  }
 ],
 "metadata": {
  "kernelspec": {
   "display_name": "Python 3",
   "language": "python",
   "name": "python3"
  },
  "language_info": {
   "codemirror_mode": {
    "name": "ipython",
    "version": 3
   },
   "file_extension": ".py",
   "mimetype": "text/x-python",
   "name": "python",
   "nbconvert_exporter": "python",
   "pygments_lexer": "ipython3",
   "version": "3.7.0"
  }
 },
 "nbformat": 4,
 "nbformat_minor": 2
}
