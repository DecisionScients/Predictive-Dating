{
 "cells": [
  {
   "cell_type": "markdown",
   "metadata": {},
   "source": [
    "# Introduction\n",
    "What can speed dating tell us about mate selection and partnership in modern Western society? What are the dyadic phenomena manifest during mate selection?  What are the characteristics and the relationships among them that indicate a partnership.  \n",
    "\n",
    "This study examines the dating preferences of subjects who have participated in a number (between 9 and 21), of four minute \"speed dates\". After which, each subject had the opportunity to accept or reject each partner. The purpose of this study is to illucidate dating behavior and selection preferences along several axes:\n",
    "1. Gender - Gender differences have been the subject of many studies over the years. The goal is to illucidate new patterns of behavior that are perhaps unique to this context.\n",
    "2. Values - Subjects rated each other and themselves along six characteristics: attractiveness, sincerity, intelligence, fun, ambition, and shared interests. To what degree do these attributes correlate? What attributes are valued and how are they matched?\n",
    "3. Interests - How do interests affect mate selection? To what degree to interests correlate?\n",
    "4. Background - How does ones background and geographic home influence mate selection?\n",
    "5. Self-Perception / Awareness - How does self-perception shape dyadic interactions? What about agreement/disagreement in assessments? \n",
    "6. Race - What are the racial dynamics exhibited in the speed dating environment?\n",
    "\n",
    "## Document Organization\n",
    "The remainder of this introduction section will describe the experiment design and the data. Next, a data cleaning, preprocessing and phase will impute missing values where appropriate. A univariate, bivariate, and multivariate exploratory data analysis is then conducted in training data. Next, we formalize and crystalize the research questions and provide supporting visualizations, hypothesis tests, and descriptive statistics.  \n",
    "\n",
    "## Experiment Design\n",
    "Our experimental design is based on meetings through Speed Dating events where participants\n",
    "engage in four-minute conversations to determine whether or not they are interested in one another\n",
    "romantically. If both partners “accept”, then each is subsequently provided with the other’s\n",
    "contact information to set-up more leisurely dates in the future. Three surveys, described below,\n",
    "were administered to the participants before, immediately after, and 3 weeks after the event.\n",
    "The main advantage of our design is that it gives us experimental control and yet provides\n",
    "us with data on decisions made in a real-world context. Speed Dating is a well-established format\n",
    "in the U.S., with eight companies in 2004 devoted exclusively to this approach in New York City\n",
    "alone, in addition to the many online match-making companies that offer Speed Dating as one of\n",
    "their services. As previously mentioned, we made a special effort to ensure that our design creates\n",
    "a setting similar to that provided by the private firms operating in this market.10 The evening’s\n",
    "script was based specifically on the format of Hurry Date, the largest Speed Dating company in\n",
    "New York.\n",
    "Our subjects were drawn from students in graduate and professional schools at Columbia\n",
    "University. Participants were recruited through a combination of mass email and fliers posted\n",
    "throughout the campus and handed out by research assistants. In order to sign up for the Speed\n",
    "Dating events, interested students had to register at a web site by providing their name and email\n",
    "address and completing a pre-event survey.11\n",
    "Setting—The Speed Dating events were conducted in an enclosed room within a popular\n",
    "bar/restaurant near the campus. The table arrangement, lighting, and type and volume of music\n",
    "played were held constant across events. Rows of small square tables were arranged with one\n",
    "chair on either side of each table.\n",
    "Procedure—Speed Dating events were conducted over weekday evenings during 2002–\n",
    "2004; data from 17 of these sessions are utilized in this study.12 In general, two sessions were\n",
    "run in a given evening, with participants randomly distributed between them.\n",
    "Upon checking in, each participant was given a clipboard, pen, and name tag on which only\n",
    "his or her ID number was written. Each clipboard included a score-card with a cover over it so\n",
    "that participants’ responses would remain confidential. The score-card was divided into columns\n",
    "in which participants indicated the ID number of each person they met. Participants would then\n",
    "circle “yes” or “no” under the ID number to indicate whether they wanted to see the other person\n",
    "again. Beneath the Yes/No decision was a listing of the six attributes on which the participant has\n",
    "to rate his or her partner on a 1–10 Likert scale: Attractive, Sincere, Intelligent, Fun, Ambitious,\n",
    "Shared Interests.13\n",
    "\n",
    "\n"
   ]
  },
  {
   "cell_type": "code",
   "execution_count": null,
   "metadata": {},
   "outputs": [],
   "source": []
  }
 ],
 "metadata": {
  "kernelspec": {
   "display_name": "Python 3",
   "language": "python",
   "name": "python3"
  },
  "language_info": {
   "codemirror_mode": {
    "name": "ipython",
    "version": 3
   },
   "file_extension": ".py",
   "mimetype": "text/x-python",
   "name": "python",
   "nbconvert_exporter": "python",
   "pygments_lexer": "ipython3",
   "version": "3.7.0"
  }
 },
 "nbformat": 4,
 "nbformat_minor": 2
}
