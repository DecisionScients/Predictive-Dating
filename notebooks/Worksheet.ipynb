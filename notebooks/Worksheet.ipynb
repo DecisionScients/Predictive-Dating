{
 "cells": [
  {
   "cell_type": "markdown",
   "metadata": {},
   "source": [
    "# Speed Dating Project\n",
    "## Data Audit\n",
    "This notebook performs audits, cleans, and splits the data into training, validation and test sets in preparation for the exploratory data analysis.\n"
   ]
  },
  {
   "cell_type": "code",
   "execution_count": 2,
   "metadata": {},
   "outputs": [],
   "source": [
    "# libraries\n",
    "import os\n",
    "import sys\n",
    "import inspect\n",
    "sys.path.append(\"../src\")\n",
    "\n",
    "import itertools\n",
    "import matplotlib as mpl\n",
    "import matplotlib.pyplot as plt\n",
    "import matplotlib.pylab as pylab\n",
    "import numpy as np\n",
    "import pandas as pd\n",
    "import seaborn as sns\n",
    "from scipy import stats"
   ]
  },
  {
   "cell_type": "code",
   "execution_count": 3,
   "metadata": {},
   "outputs": [],
   "source": [
    "# Obtain Raw Data\n",
    "df = pd.read_csv(os.path.join(directories.RAW_DATA_DIR,\n",
    "                              filenames.RAW_FILENAME),\n",
    "                 encoding=\"Latin-1\", low_memory=False)"
   ]
  },
  {
   "cell_type": "code",
   "execution_count": 40,
   "metadata": {},
   "outputs": [
    {
     "name": "stdout",
     "output_type": "stream",
     "text": [
      "KruskalResult(statistic=154.92330717190276, pvalue=1.792622095731994e-32)\n"
     ]
    }
   ],
   "source": [
    "df2 = df[['race', 'attractive_important']].dropna()\n",
    "groups = {}\n",
    "for grp in df2['race'].unique():\n",
    "    groups[grp] = df2['attractive_important'][df2['race']==grp].values\n",
    "args = groups.values()\n",
    "r = stats.kruskal(*args)\n",
    "print(r)"
   ]
  },
  {
   "cell_type": "code",
   "execution_count": 11,
   "metadata": {},
   "outputs": [
    {
     "name": "stdout",
     "output_type": "stream",
     "text": [
      "[Series([], Name: attractive_important, dtype: float64), Series([], Name: attractive_important, dtype: float64), Series([], Name: attractive_important, dtype: float64), Series([], Name: attractive_important, dtype: float64), Series([], Name: attractive_important, dtype: float64)]\n"
     ]
    }
   ],
   "source": [
    "print(pref[0:5])"
   ]
  },
  {
   "cell_type": "code",
   "execution_count": null,
   "metadata": {},
   "outputs": [],
   "source": []
  }
 ],
 "metadata": {
  "kernelspec": {
   "display_name": "Python 3",
   "language": "python",
   "name": "python3"
  },
  "language_info": {
   "codemirror_mode": {
    "name": "ipython",
    "version": 3
   },
   "file_extension": ".py",
   "mimetype": "text/x-python",
   "name": "python",
   "nbconvert_exporter": "python",
   "pygments_lexer": "ipython3",
   "version": "3.6.5"
  }
 },
 "nbformat": 4,
 "nbformat_minor": 2
}
