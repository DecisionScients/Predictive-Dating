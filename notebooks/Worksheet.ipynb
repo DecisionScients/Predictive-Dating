{
 "cells": [
  {
   "cell_type": "markdown",
   "metadata": {},
   "source": [
    "# Speed Dating Project\n",
    "## Data Audit\n",
    "This notebook performs audits, cleans, and splits the data into training, validation and test sets in preparation for the exploratory data analysis.\n"
   ]
  },
  {
   "cell_type": "code",
   "execution_count": 14,
   "metadata": {},
   "outputs": [],
   "source": [
    "# libraries\n",
    "%matplotlib inline\n",
    "\n",
    "import os\n",
    "import sys\n",
    "import inspect\n",
    "sys.path.append(\"../src\")\n",
    "\n",
    "from IPython.core.interactiveshell import InteractiveShell\n",
    "InteractiveShell.ast_node_interactivity = \"all\"\n",
    "\n",
    "import numpy as np\n",
    "import pandas as pd\n",
    "pd.set_option('display.max_colwidth', 500)\n",
    "import matplotlib.pyplot as plt\n",
    "import scipy.stats as stats\n",
    "import seaborn as sns\n",
    "import statsmodels.api as sm\n",
    "import statsmodels.formula.api as smf\n",
    "\n",
    "from shared import directories\n",
    "from shared import filenames\n",
    "from shared import variables\n",
    "from analysis import trivariate\n",
    "sys.path.append(directories.ANALYSIS_DIR)\n",
    "sys.path.append(directories.UTILITIES_DIR)\n",
    "\n",
    "import bivariate, independence, visual\n",
    "import warnings\n",
    "warnings.filterwarnings('ignore')"
   ]
  },
  {
   "cell_type": "code",
   "execution_count": 15,
   "metadata": {},
   "outputs": [],
   "source": [
    "df = pd.read_csv(os.path.join(directories.INTERIM_DATA_DIR,\n",
    "                              filenames.INTERIM_FILENAME),\n",
    "                 encoding=\"Latin-1\", low_memory=False)\n",
    "df_males = df[df['gender']=='Male']\n",
    "df_females = df[df['gender']=='Female']\n"
   ]
  },
  {
   "cell_type": "code",
   "execution_count": 94,
   "metadata": {},
   "outputs": [
    {
     "data": {
      "text/html": [
       "<div>\n",
       "<style scoped>\n",
       "    .dataframe tbody tr th:only-of-type {\n",
       "        vertical-align: middle;\n",
       "    }\n",
       "\n",
       "    .dataframe tbody tr th {\n",
       "        vertical-align: top;\n",
       "    }\n",
       "\n",
       "    .dataframe thead th {\n",
       "        text-align: right;\n",
       "    }\n",
       "</style>\n",
       "<table border=\"1\" class=\"dataframe\">\n",
       "  <thead>\n",
       "    <tr style=\"text-align: right;\">\n",
       "      <th></th>\n",
       "      <th>F</th>\n",
       "      <th>p-value</th>\n",
       "      <th>H0</th>\n",
       "    </tr>\n",
       "  </thead>\n",
       "  <tbody>\n",
       "    <tr>\n",
       "      <th>Asian</th>\n",
       "      <td>57.210332</td>\n",
       "      <td>4.017631e-14</td>\n",
       "      <td>Reject</td>\n",
       "    </tr>\n",
       "    <tr>\n",
       "      <th>Black</th>\n",
       "      <td>0.210596</td>\n",
       "      <td>6.463142e-01</td>\n",
       "      <td>Fail to Reject</td>\n",
       "    </tr>\n",
       "    <tr>\n",
       "      <th>Caucasian</th>\n",
       "      <td>5.761710</td>\n",
       "      <td>1.638139e-02</td>\n",
       "      <td>Reject</td>\n",
       "    </tr>\n",
       "    <tr>\n",
       "      <th>Latino</th>\n",
       "      <td>1.259068</td>\n",
       "      <td>2.618506e-01</td>\n",
       "      <td>Fail to Reject</td>\n",
       "    </tr>\n",
       "    <tr>\n",
       "      <th>Other</th>\n",
       "      <td>124.003208</td>\n",
       "      <td>1.346502e-28</td>\n",
       "      <td>Reject</td>\n",
       "    </tr>\n",
       "  </tbody>\n",
       "</table>\n",
       "</div>"
      ],
      "text/plain": [
       "                    F       p-value              H0\n",
       "Asian       57.210332  4.017631e-14          Reject\n",
       "Black        0.210596  6.463142e-01  Fail to Reject\n",
       "Caucasian    5.761710  1.638139e-02          Reject\n",
       "Latino       1.259068  2.618506e-01  Fail to Reject\n",
       "Other      124.003208  1.346502e-28          Reject"
      ]
     },
     "execution_count": 94,
     "metadata": {},
     "output_type": "execute_result"
    }
   ],
   "source": [
    "x = 'race'\n",
    "y = 'intel1_1'\n",
    "z = 'dec'\n",
    "df2 = df[[x,y,z]]\n",
    "df2 = df2.dropna()\n",
    "aov = pd.DataFrame()\n",
    "for races in df2.groupby(x):    \n",
    "    samples = [rating[1] for rating in races[1].groupby(z)[y]]   \n",
    "    f, p = stats.f_oneway(*samples)\n",
    "    d = {'F':f, 'p-value':p}\n",
    "    a = pd.DataFrame(d, index=[races[0]])\n",
    "    a['H0'] = np.where(a['p-value']>0.05, 'Fail to Reject', 'Reject')\n",
    "    aov = pd.concat([aov,a],axis=0)\n",
    "\n",
    "aov\n"
   ]
  },
  {
   "cell_type": "code",
   "execution_count": null,
   "metadata": {},
   "outputs": [],
   "source": []
  }
 ],
 "metadata": {
  "kernelspec": {
   "display_name": "Python 3",
   "language": "python",
   "name": "python3"
  },
  "language_info": {
   "codemirror_mode": {
    "name": "ipython",
    "version": 3
   },
   "file_extension": ".py",
   "mimetype": "text/x-python",
   "name": "python",
   "nbconvert_exporter": "python",
   "pygments_lexer": "ipython3",
   "version": "3.7.0"
  }
 },
 "nbformat": 4,
 "nbformat_minor": 2
}
