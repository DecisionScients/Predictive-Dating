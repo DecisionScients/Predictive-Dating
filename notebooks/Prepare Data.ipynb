{
 "cells": [
  {
   "cell_type": "markdown",
   "metadata": {},
   "source": [
    "# Speed Dating Project\n",
    "## Prepare Data\n",
    "This notebook does extracts the variables of interest, splits the data into training, validation and test sets, then saves the data for downstream analysis and modeling.  \n"
   ]
  },
  {
   "cell_type": "code",
   "execution_count": 1,
   "metadata": {},
   "outputs": [],
   "source": [
    "# libraries\n",
    "import os\n",
    "import sys\n",
    "import inspect\n",
    "sys.path.append(\"../src\")\n",
    "\n",
    "import pandas as pd\n",
    "from sklearn.model_selection import train_test_split\n",
    "\n",
    "from shared import directories\n",
    "from shared import filenames\n",
    "from shared import variables\n",
    "from visualization import visual"
   ]
  },
  {
   "cell_type": "markdown",
   "metadata": {},
   "source": [
    "### Obtain raw data"
   ]
  },
  {
   "cell_type": "code",
   "execution_count": 2,
   "metadata": {},
   "outputs": [],
   "source": [
    "df = pd.read_csv(os.path.join(directories.RAW_DATA_DIR,\n",
    "                              filenames.RAW_FILENAME),\n",
    "                 encoding=\"Latin-1\", low_memory=False)"
   ]
  },
  {
   "cell_type": "markdown",
   "metadata": {},
   "source": [
    "### Inspect Data Structure"
   ]
  },
  {
   "cell_type": "code",
   "execution_count": 3,
   "metadata": {},
   "outputs": [
    {
     "name": "stdout",
     "output_type": "stream",
     "text": [
      "<class 'pandas.core.frame.DataFrame'>\n",
      "RangeIndex: 8378 entries, 0 to 8377\n",
      "Columns: 123 entries, has_null to match\n",
      "dtypes: float64(57), int64(7), object(59)\n",
      "memory usage: 7.9+ MB\n",
      "None\n"
     ]
    }
   ],
   "source": [
    "print(df.info())"
   ]
  },
  {
   "cell_type": "markdown",
   "metadata": {},
   "source": [
    "### Extract variables of interest"
   ]
  },
  {
   "cell_type": "code",
   "execution_count": 4,
   "metadata": {},
   "outputs": [],
   "source": [
    "omit = ['wave', 'field']\n",
    "df = df.drop(columns=omit)"
   ]
  },
  {
   "cell_type": "markdown",
   "metadata": {},
   "source": [
    "### Format Data\n",
    "Recode race labels for easy plotting and correct misspelled column names"
   ]
  },
  {
   "cell_type": "code",
   "execution_count": 5,
   "metadata": {},
   "outputs": [],
   "source": [
    "# Preprocessing\n",
    "# Recode race levels\n",
    "df['race'] = df['race'].replace({\n",
    "    'asian/pacific islander/asian-american': 'asian',\n",
    "    'european/caucasian-american': 'caucasian',\n",
    "    'black/african american': 'black',\n",
    "    'latino/hispanic american': 'latino',\n",
    "    'other': 'other'})\n",
    "df['race_o'] = df['race_o'].replace({\n",
    "    'asian/pacific islander/asian-american': 'asian',\n",
    "    'european/caucasian-american': 'caucasian',\n",
    "    'black/african american': 'black',\n",
    "    'latino/hispanic american': 'latino',\n",
    "    'other': 'other'})\n",
    "\n",
    "# Correct spelling\n",
    "df.rename({'sinsere_o': 'sincere_o',\n",
    "           'd_sinsere_o': 'd_sincere_o',           \n",
    "           'intellicence_important': 'intelligence_important',\n",
    "           'd_intellicence_important': 'd_intelligence_important',   \n",
    "           'ambitous_o': 'ambition_o',\n",
    "           'ambtition_important': 'ambition_important',\n",
    "           'd_ambtition_important': 'd_ambition_important'},\n",
    "            axis='columns', inplace=True)"
   ]
  },
  {
   "cell_type": "markdown",
   "metadata": {},
   "source": [
    "### Split into training, validation and test sets. \n",
    "First split data set into a training/test sets 80/20. Then split training set into training/validation sets 80/20"
   ]
  },
  {
   "cell_type": "code",
   "execution_count": 7,
   "metadata": {},
   "outputs": [],
   "source": [
    "train, test = train_test_split(df, test_size=0.2, random_state=5)\n",
    "train, validation = train_test_split(train, test_size=0.2, random_state=5)"
   ]
  },
  {
   "cell_type": "markdown",
   "metadata": {},
   "source": [
    "### Save data \n",
    "Save training, validation and test sets in an interim directory for exploratory data analysis"
   ]
  },
  {
   "cell_type": "code",
   "execution_count": 8,
   "metadata": {},
   "outputs": [],
   "source": [
    "def write(df, directory, filename):\n",
    "    if isinstance(df, pd.DataFrame):\n",
    "        if isinstance(filename, str):\n",
    "            if not os.path.isdir(directory):\n",
    "                os.mkdir(directory)\n",
    "            df.to_csv(os.path.join(directory, filename),\n",
    "                      index=False, index_label=False)\n",
    "            return(True)\n",
    "        else:\n",
    "            return(False)\n",
    "    else:\n",
    "        return(False)"
   ]
  },
  {
   "cell_type": "code",
   "execution_count": 10,
   "metadata": {},
   "outputs": [
    {
     "data": {
      "text/plain": [
       "True"
      ]
     },
     "execution_count": 10,
     "metadata": {},
     "output_type": "execute_result"
    }
   ],
   "source": [
    "write(train, directories.INTERIM_DATA_DIR, filenames.TRAIN_FILENAME)\n",
    "write(validation, directories.INTERIM_DATA_DIR, filenames.VALIDATION_FILENAME)\n",
    "write(test, directories.INTERIM_DATA_DIR, filenames.TEST_FILENAME)"
   ]
  },
  {
   "cell_type": "code",
   "execution_count": null,
   "metadata": {},
   "outputs": [],
   "source": []
  }
 ],
 "metadata": {
  "kernelspec": {
   "display_name": "Python 3",
   "language": "python",
   "name": "python3"
  },
  "language_info": {
   "codemirror_mode": {
    "name": "ipython",
    "version": 3
   },
   "file_extension": ".py",
   "mimetype": "text/x-python",
   "name": "python",
   "nbconvert_exporter": "python",
   "pygments_lexer": "ipython3",
   "version": "3.6.5"
  }
 },
 "nbformat": 4,
 "nbformat_minor": 2
}
